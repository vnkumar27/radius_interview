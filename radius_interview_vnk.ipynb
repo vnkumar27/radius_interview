{
 "cells": [
  {
   "cell_type": "markdown",
   "metadata": {},
   "source": [
    "Exercise for Junior Data Scientist interview with Radius, June 2017  \n",
    "\n",
    "Veena Kumar"
   ]
  },
  {
   "cell_type": "markdown",
   "metadata": {},
   "source": [
    "# Data Import"
   ]
  },
  {
   "cell_type": "code",
   "execution_count": 1,
   "metadata": {
    "ExecuteTime": {
     "end_time": "2017-06-06T16:47:32.643950",
     "start_time": "2017-06-06T16:47:29.485257"
    },
    "collapsed": true,
    "run_control": {
     "frozen": false,
     "read_only": false
    }
   },
   "outputs": [],
   "source": [
    "import numpy as np\n",
    "import pandas as pd"
   ]
  },
  {
   "cell_type": "code",
   "execution_count": 2,
   "metadata": {
    "ExecuteTime": {
     "end_time": "2017-06-06T16:52:45.179661",
     "start_time": "2017-06-06T16:47:43.790215"
    },
    "collapsed": false,
    "run_control": {
     "frozen": false,
     "read_only": false
    }
   },
   "outputs": [],
   "source": [
    "df = pd.read_json('./Downloads/data_analysis.json')"
   ]
  },
  {
   "cell_type": "code",
   "execution_count": 3,
   "metadata": {
    "ExecuteTime": {
     "end_time": "2017-06-06T16:52:51.186108",
     "start_time": "2017-06-06T16:52:51.051322"
    },
    "collapsed": false,
    "run_control": {
     "frozen": false,
     "read_only": false
    }
   },
   "outputs": [
    {
     "data": {
      "text/html": [
       "<div>\n",
       "<table border=\"1\" class=\"dataframe\">\n",
       "  <thead>\n",
       "    <tr style=\"text-align: right;\">\n",
       "      <th></th>\n",
       "      <th>address</th>\n",
       "      <th>category_code</th>\n",
       "      <th>city</th>\n",
       "      <th>headcount</th>\n",
       "      <th>name</th>\n",
       "      <th>phone</th>\n",
       "      <th>revenue</th>\n",
       "      <th>state</th>\n",
       "      <th>time_in_business</th>\n",
       "      <th>zip</th>\n",
       "    </tr>\n",
       "  </thead>\n",
       "  <tbody>\n",
       "    <tr>\n",
       "      <th>0</th>\n",
       "      <td>10085 SCRIPPS RANCH CT STE A</td>\n",
       "      <td>44420000</td>\n",
       "      <td>SAN DIEGO</td>\n",
       "      <td>50 to 99</td>\n",
       "      <td>AMD CUSTOM</td>\n",
       "      <td>3123628000</td>\n",
       "      <td>$20 to 50 Million</td>\n",
       "      <td>CA</td>\n",
       "      <td>10+ years</td>\n",
       "      <td>92131</td>\n",
       "    </tr>\n",
       "    <tr>\n",
       "      <th>1</th>\n",
       "      <td>2566 SHALLOWFORD RD NE STE 104 # 302</td>\n",
       "      <td>31490000</td>\n",
       "      <td>ATLANTA</td>\n",
       "      <td>1 to 4</td>\n",
       "      <td>Real Hope Real Estate Inc</td>\n",
       "      <td>None</td>\n",
       "      <td>Less Than $500,000</td>\n",
       "      <td>GA</td>\n",
       "      <td>10+ years</td>\n",
       "      <td>30345</td>\n",
       "    </tr>\n",
       "    <tr>\n",
       "      <th>2</th>\n",
       "      <td>212 E MAIN ST</td>\n",
       "      <td>53120000</td>\n",
       "      <td>NEOSHO</td>\n",
       "      <td>1 to 4</td>\n",
       "      <td>Jimmy Sexton Photography</td>\n",
       "      <td>4046331779</td>\n",
       "      <td>Less Than $500,000</td>\n",
       "      <td>MO</td>\n",
       "      <td>10+ years</td>\n",
       "      <td>64850</td>\n",
       "    </tr>\n",
       "    <tr>\n",
       "      <th>3</th>\n",
       "      <td>6032 CHEROKEE DR</td>\n",
       "      <td>54000000</td>\n",
       "      <td>CINCINNATI</td>\n",
       "      <td>1 to 4</td>\n",
       "      <td>YOU'RE ART</td>\n",
       "      <td>4174513798</td>\n",
       "      <td>Less Than $500,000</td>\n",
       "      <td>OH</td>\n",
       "      <td>10+ years</td>\n",
       "      <td>45243</td>\n",
       "    </tr>\n",
       "    <tr>\n",
       "      <th>4</th>\n",
       "      <td>1315 N WOOSTER AVE</td>\n",
       "      <td>54100000</td>\n",
       "      <td>STRASBURG</td>\n",
       "      <td>1 to 4</td>\n",
       "      <td>Hayberg Restoration Network LLC</td>\n",
       "      <td>5135612584</td>\n",
       "      <td>$500,000 to $1 Million</td>\n",
       "      <td>OH</td>\n",
       "      <td>10+ years</td>\n",
       "      <td>44680</td>\n",
       "    </tr>\n",
       "  </tbody>\n",
       "</table>\n",
       "</div>"
      ],
      "text/plain": [
       "                                address category_code        city headcount  \\\n",
       "0          10085 SCRIPPS RANCH CT STE A      44420000   SAN DIEGO  50 to 99   \n",
       "1  2566 SHALLOWFORD RD NE STE 104 # 302      31490000     ATLANTA    1 to 4   \n",
       "2                         212 E MAIN ST      53120000      NEOSHO    1 to 4   \n",
       "3                      6032 CHEROKEE DR      54000000  CINCINNATI    1 to 4   \n",
       "4                    1315 N WOOSTER AVE      54100000   STRASBURG    1 to 4   \n",
       "\n",
       "                              name       phone                 revenue state  \\\n",
       "0                       AMD CUSTOM  3123628000       $20 to 50 Million    CA   \n",
       "1        Real Hope Real Estate Inc        None      Less Than $500,000    GA   \n",
       "2         Jimmy Sexton Photography  4046331779      Less Than $500,000    MO   \n",
       "3                       YOU'RE ART  4174513798      Less Than $500,000    OH   \n",
       "4  Hayberg Restoration Network LLC  5135612584  $500,000 to $1 Million    OH   \n",
       "\n",
       "  time_in_business    zip  \n",
       "0        10+ years  92131  \n",
       "1        10+ years  30345  \n",
       "2        10+ years  64850  \n",
       "3        10+ years  45243  \n",
       "4        10+ years  44680  "
      ]
     },
     "execution_count": 3,
     "metadata": {},
     "output_type": "execute_result"
    }
   ],
   "source": [
    "df.head()"
   ]
  },
  {
   "cell_type": "code",
   "execution_count": 4,
   "metadata": {
    "ExecuteTime": {
     "end_time": "2017-06-06T16:53:00.924554",
     "start_time": "2017-06-06T16:52:53.581197"
    },
    "collapsed": false,
    "run_control": {
     "frozen": false,
     "read_only": false
    }
   },
   "outputs": [
    {
     "name": "stdout",
     "output_type": "stream",
     "text": [
      "<class 'pandas.core.frame.DataFrame'>\n",
      "Int64Index: 1000000 entries, 0 to 999999\n",
      "Data columns (total 10 columns):\n",
      "address             999986 non-null object\n",
      "category_code       999986 non-null object\n",
      "city                999986 non-null object\n",
      "headcount           962352 non-null object\n",
      "name                999986 non-null object\n",
      "phone               590889 non-null object\n",
      "revenue             943092 non-null object\n",
      "state               999986 non-null object\n",
      "time_in_business    916125 non-null object\n",
      "zip                 999988 non-null object\n",
      "dtypes: object(10)\n",
      "memory usage: 83.9+ MB\n"
     ]
    }
   ],
   "source": [
    "df.info()"
   ]
  },
  {
   "cell_type": "markdown",
   "metadata": {},
   "source": [
    "# Fill Rates"
   ]
  },
  {
   "cell_type": "code",
   "execution_count": 5,
   "metadata": {
    "ExecuteTime": {
     "end_time": "2017-06-06T16:53:06.457873",
     "start_time": "2017-06-06T16:53:06.424872"
    },
    "collapsed": true
   },
   "outputs": [],
   "source": [
    "#Fill rates\n",
    "def fill_rates(df): \n",
    "    for i in range(len(df.columns)):\n",
    "        rate = round(float(df.count()[i])/df.shape[0],5)\n",
    "        print str(df.columns[i]) + ' : ' + str(rate)"
   ]
  },
  {
   "cell_type": "code",
   "execution_count": 6,
   "metadata": {
    "ExecuteTime": {
     "end_time": "2017-06-06T16:53:33.223564",
     "start_time": "2017-06-06T16:53:07.756626"
    },
    "collapsed": false
   },
   "outputs": [
    {
     "name": "stdout",
     "output_type": "stream",
     "text": [
      "address : 0.99999\n",
      "category_code : 0.99999\n",
      "city : 0.99999\n",
      "headcount : 0.96235\n",
      "name : 0.99999\n",
      "phone : 0.59089\n",
      "revenue : 0.94309\n",
      "state : 0.99999\n",
      "time_in_business : 0.91612\n",
      "zip : 0.99999\n"
     ]
    }
   ],
   "source": [
    "fill_rates(df)"
   ]
  },
  {
   "cell_type": "markdown",
   "metadata": {},
   "source": [
    "# Data Validity/Cleaning"
   ]
  },
  {
   "cell_type": "markdown",
   "metadata": {},
   "source": [
    "To find true fill rate, we need to take a look at the actual values in the columns."
   ]
  },
  {
   "cell_type": "markdown",
   "metadata": {},
   "source": [
    "### Address"
   ]
  },
  {
   "cell_type": "markdown",
   "metadata": {},
   "source": [
    " Starting with the address column, going to filter records by address values that seem implausible (such as a short length)."
   ]
  },
  {
   "cell_type": "code",
   "execution_count": 7,
   "metadata": {
    "ExecuteTime": {
     "end_time": "2017-06-06T16:53:40.819146",
     "start_time": "2017-06-06T16:53:36.430932"
    },
    "collapsed": false,
    "scrolled": false
   },
   "outputs": [
    {
     "name": "stdout",
     "output_type": "stream",
     "text": [
      "Length less than 7: \n",
      "          19\n",
      "          16\n",
      "none      15\n",
      "null      13\n",
      "0         12\n",
      "1 X ST     2\n",
      "6 C ST     2\n",
      "1 ICON     1\n",
      "2ND        1\n",
      "6 Q ST     1\n",
      "1 BYU      1\n",
      "1 POST     1\n",
      "1 PIER     1\n",
      "54 HWY     1\n",
      "2ND ST     1\n",
      "1 A ST     1\n",
      "9 F ST     1\n",
      "4 P ST     1\n",
      "1 Y DR     1\n",
      "4 A ST     1\n",
      "Name: address, dtype: int64\n",
      "Length less than 6: \n",
      "         19\n",
      "         16\n",
      "none     15\n",
      "null     13\n",
      "0        12\n",
      "1 BYU     1\n",
      "2ND       1\n",
      "Name: address, dtype: int64\n",
      "Length less than 5: \n",
      "        19\n",
      "        16\n",
      "none    15\n",
      "null    13\n",
      "0       12\n",
      "2ND      1\n",
      "Name: address, dtype: int64\n"
     ]
    }
   ],
   "source": [
    "#Doing some trial and error testing here.\n",
    "print 'Length less than 7: '\n",
    "print df[df.address.str.len() < 7].address.value_counts()\n",
    "\n",
    "print 'Length less than 6: '\n",
    "print df[df.address.str.len() < 6].address.value_counts()\n",
    "\n",
    "print 'Length less than 5: '\n",
    "print df[df.address.str.len() < 5].address.value_counts()"
   ]
  },
  {
   "cell_type": "markdown",
   "metadata": {},
   "source": [
    "Based on the above it looks like 6 is a safe number to catch most erroneous values. Going to make those values null so they are not included in our fill rate calculations."
   ]
  },
  {
   "cell_type": "code",
   "execution_count": 8,
   "metadata": {
    "ExecuteTime": {
     "end_time": "2017-06-06T16:53:49.237528",
     "start_time": "2017-06-06T16:53:46.150116"
    },
    "collapsed": false
   },
   "outputs": [],
   "source": [
    "df.loc[df.address.str.len()<6, 'address'] = None"
   ]
  },
  {
   "cell_type": "code",
   "execution_count": 9,
   "metadata": {
    "ExecuteTime": {
     "end_time": "2017-06-06T16:53:49.939101",
     "start_time": "2017-06-06T16:53:49.241616"
    },
    "collapsed": false
   },
   "outputs": [
    {
     "data": {
      "text/plain": [
       "array([], dtype=object)"
      ]
     },
     "execution_count": 9,
     "metadata": {},
     "output_type": "execute_result"
    }
   ],
   "source": [
    "df[df.address.str.len()<5].address.values"
   ]
  },
  {
   "cell_type": "markdown",
   "metadata": {},
   "source": [
    "### Category Code"
   ]
  },
  {
   "cell_type": "markdown",
   "metadata": {},
   "source": [
    "Repeating the process for the rest of the columns"
   ]
  },
  {
   "cell_type": "code",
   "execution_count": 10,
   "metadata": {
    "ExecuteTime": {
     "end_time": "2017-06-06T16:53:57.685367",
     "start_time": "2017-06-06T16:53:55.830393"
    },
    "collapsed": false
   },
   "outputs": [
    {
     "data": {
      "text/plain": [
       "8.0    999910\n",
       "1.0        29\n",
       "4.0        23\n",
       "0.0        11\n",
       "Name: category_code, dtype: int64"
      ]
     },
     "execution_count": 10,
     "metadata": {},
     "output_type": "execute_result"
    }
   ],
   "source": [
    "df.category_code.str.len().value_counts()"
   ]
  },
  {
   "cell_type": "markdown",
   "metadata": {},
   "source": [
    "Looks like there are only 11 rows with no category codes. Per the NAICS website, the code can be from 2 - 6 digits long. Any values with a length less than 2 are probably incorrect/invalid."
   ]
  },
  {
   "cell_type": "code",
   "execution_count": 11,
   "metadata": {
    "ExecuteTime": {
     "end_time": "2017-06-06T16:54:04.420654",
     "start_time": "2017-06-06T16:54:02.664803"
    },
    "collapsed": false
   },
   "outputs": [
    {
     "data": {
      "text/plain": [
       "     15\n",
       "0    14\n",
       "     11\n",
       "Name: category_code, dtype: int64"
      ]
     },
     "execution_count": 11,
     "metadata": {},
     "output_type": "execute_result"
    }
   ],
   "source": [
    "df[df.category_code.str.len() <2].category_code.value_counts()"
   ]
  },
  {
   "cell_type": "markdown",
   "metadata": {},
   "source": [
    "For ease of calculations, going to update these values to None"
   ]
  },
  {
   "cell_type": "code",
   "execution_count": 12,
   "metadata": {
    "ExecuteTime": {
     "end_time": "2017-06-06T16:54:18.196416",
     "start_time": "2017-06-06T16:54:15.870299"
    },
    "collapsed": true
   },
   "outputs": [],
   "source": [
    "df.loc[df.category_code.str.len()<2, 'category_code'] = None"
   ]
  },
  {
   "cell_type": "code",
   "execution_count": 13,
   "metadata": {
    "ExecuteTime": {
     "end_time": "2017-06-06T16:54:18.867784",
     "start_time": "2017-06-06T16:54:18.235222"
    },
    "collapsed": false
   },
   "outputs": [
    {
     "data": {
      "text/plain": [
       "142435    none\n",
       "214273    none\n",
       "316453    none\n",
       "339591    null\n",
       "350958    null\n",
       "359677    null\n",
       "398925    null\n",
       "432231    null\n",
       "448221    null\n",
       "457180    null\n",
       "466522    none\n",
       "477571    none\n",
       "506493    null\n",
       "533707    none\n",
       "570456    null\n",
       "588523    none\n",
       "741148    null\n",
       "766335    null\n",
       "825757    none\n",
       "856611    none\n",
       "923653    null\n",
       "968495    null\n",
       "990961    null\n",
       "Name: category_code, dtype: object"
      ]
     },
     "execution_count": 13,
     "metadata": {},
     "output_type": "execute_result"
    }
   ],
   "source": [
    "df[df.category_code.str.len()==4].category_code"
   ]
  },
  {
   "cell_type": "code",
   "execution_count": 14,
   "metadata": {
    "ExecuteTime": {
     "end_time": "2017-06-06T16:54:25.027286",
     "start_time": "2017-06-06T16:54:23.638284"
    },
    "collapsed": true
   },
   "outputs": [],
   "source": [
    "#Updating values of length 4 as well\n",
    "df.loc[df.category_code.str.len()==4, 'category_code'] = None"
   ]
  },
  {
   "cell_type": "code",
   "execution_count": 15,
   "metadata": {
    "ExecuteTime": {
     "end_time": "2017-06-06T16:54:25.923972",
     "start_time": "2017-06-06T16:54:25.350966"
    },
    "collapsed": false
   },
   "outputs": [
    {
     "data": {
      "text/plain": [
       "8.0    999910\n",
       "Name: category_code, dtype: int64"
      ]
     },
     "execution_count": 15,
     "metadata": {},
     "output_type": "execute_result"
    }
   ],
   "source": [
    "#Double checking that it worked\n",
    "df.category_code.str.len().value_counts()"
   ]
  },
  {
   "cell_type": "markdown",
   "metadata": {},
   "source": [
    "Cool, onto the next!"
   ]
  },
  {
   "cell_type": "markdown",
   "metadata": {},
   "source": [
    "### City"
   ]
  },
  {
   "cell_type": "code",
   "execution_count": 16,
   "metadata": {
    "ExecuteTime": {
     "end_time": "2017-06-06T16:54:33.738327",
     "start_time": "2017-06-06T16:54:31.745410"
    },
    "collapsed": false
   },
   "outputs": [
    {
     "data": {
      "text/plain": [
       "7.0     156680\n",
       "8.0     137889\n",
       "9.0     130751\n",
       "10.0    128597\n",
       "6.0     121942\n",
       "11.0     92861\n",
       "12.0     59314\n",
       "5.0      50799\n",
       "13.0     41943\n",
       "14.0     21107\n",
       "4.0      17931\n",
       "15.0     14508\n",
       "16.0     14456\n",
       "17.0      4985\n",
       "18.0      2532\n",
       "19.0      1362\n",
       "3.0        838\n",
       "20.0       796\n",
       "22.0       285\n",
       "21.0       193\n",
       "25.0       118\n",
       "23.0        35\n",
       "1.0         24\n",
       "0.0         19\n",
       "24.0         3\n",
       "26.0         1\n",
       "Name: city, dtype: int64"
      ]
     },
     "execution_count": 16,
     "metadata": {},
     "output_type": "execute_result"
    }
   ],
   "source": [
    "df.city.str.len().value_counts()"
   ]
  },
  {
   "cell_type": "markdown",
   "metadata": {},
   "source": [
    "Checking values for length of 0 and 1"
   ]
  },
  {
   "cell_type": "code",
   "execution_count": 17,
   "metadata": {
    "ExecuteTime": {
     "end_time": "2017-06-06T16:54:38.944054",
     "start_time": "2017-06-06T16:54:34.910051"
    },
    "collapsed": false
   },
   "outputs": [
    {
     "data": {
      "text/plain": [
       "array([u'', u' ', u' ', u'0', u'', u'', u' ', u' ', u'0', u'', u'0', u' ',\n",
       "       u'', u'', u'', u' ', u'', u'', u'0', u' ', u' ', u'0', u'', u' ',\n",
       "       u'', u'0', u'0', u'0', u'0', u'0', u'', u'0', u' ', u'', u'0', u'',\n",
       "       u'', u'', u'', u'0', u' ', u'', u''], dtype=object)"
      ]
     },
     "execution_count": 17,
     "metadata": {},
     "output_type": "execute_result"
    }
   ],
   "source": [
    "df[df.city.str.len() <2].city.values"
   ]
  },
  {
   "cell_type": "markdown",
   "metadata": {},
   "source": [
    "Only a few values overall, but might as well clean them up!"
   ]
  },
  {
   "cell_type": "code",
   "execution_count": 18,
   "metadata": {
    "ExecuteTime": {
     "end_time": "2017-06-06T16:54:41.670907",
     "start_time": "2017-06-06T16:54:39.263625"
    },
    "collapsed": true
   },
   "outputs": [],
   "source": [
    "df.loc[df.city.str.len()<2, 'city'] = None"
   ]
  },
  {
   "cell_type": "markdown",
   "metadata": {},
   "source": [
    "### Headcount"
   ]
  },
  {
   "cell_type": "code",
   "execution_count": 19,
   "metadata": {
    "ExecuteTime": {
     "end_time": "2017-06-06T16:54:46.711405",
     "start_time": "2017-06-06T16:54:42.696756"
    },
    "collapsed": false
   },
   "outputs": [
    {
     "data": {
      "text/plain": [
       "1 to 4        358207\n",
       "5 to 9        212401\n",
       "10 to 19      151412\n",
       "20 to 49      121264\n",
       "50 to 99       60526\n",
       "100 to 249     36475\n",
       "250 to 499     11138\n",
       "Over 1,000      5600\n",
       "500 to 999      5250\n",
       "none              17\n",
       "                  17\n",
       "0                 15\n",
       "null              12\n",
       "0                 10\n",
       "                   8\n",
       "Name: headcount, dtype: int64"
      ]
     },
     "execution_count": 19,
     "metadata": {},
     "output_type": "execute_result"
    }
   ],
   "source": [
    "df.headcount.value_counts()"
   ]
  },
  {
   "cell_type": "code",
   "execution_count": 20,
   "metadata": {
    "ExecuteTime": {
     "end_time": "2017-06-06T16:54:49.445182",
     "start_time": "2017-06-06T16:54:46.718350"
    },
    "collapsed": true
   },
   "outputs": [],
   "source": [
    "df.loc[df.headcount.str.len() <5,'headcount'] =  None"
   ]
  },
  {
   "cell_type": "markdown",
   "metadata": {},
   "source": [
    "### Name"
   ]
  },
  {
   "cell_type": "code",
   "execution_count": 21,
   "metadata": {
    "ExecuteTime": {
     "end_time": "2017-06-06T16:54:51.540347",
     "start_time": "2017-06-06T16:54:50.726665"
    },
    "collapsed": false
   },
   "outputs": [
    {
     "data": {
      "text/plain": [
       "array([u' ', u'0', u' ', u'A', u'Q', u'0', u'0', u' ', u'0', u' ', u' ',\n",
       "       u'', u'0', u' ', u'0', u' ', u'', u'', u' ', u'', u'', u'0', u' ',\n",
       "       u'0', u'0', u'', u'', u' ', u' ', u' ', u'0', u'0', u'', u' ', u' ',\n",
       "       u'0', u'', u'0', u'0', u'', u' ', u'0', u'', u'0'], dtype=object)"
      ]
     },
     "execution_count": 21,
     "metadata": {},
     "output_type": "execute_result"
    }
   ],
   "source": [
    "df[df.name.str.len() <2].name.values"
   ]
  },
  {
   "cell_type": "code",
   "execution_count": 22,
   "metadata": {
    "ExecuteTime": {
     "end_time": "2017-06-06T16:54:53.222716",
     "start_time": "2017-06-06T16:54:52.285686"
    },
    "collapsed": true
   },
   "outputs": [],
   "source": [
    "df.loc[df.name.str.len() <2,'name'] = None"
   ]
  },
  {
   "cell_type": "markdown",
   "metadata": {},
   "source": [
    "### Phone"
   ]
  },
  {
   "cell_type": "code",
   "execution_count": 23,
   "metadata": {
    "ExecuteTime": {
     "end_time": "2017-06-06T16:54:56.710727",
     "start_time": "2017-06-06T16:54:55.307617"
    },
    "collapsed": false
   },
   "outputs": [
    {
     "data": {
      "text/plain": [
       "10.0    581380\n",
       "14.0      9412\n",
       "4.0         33\n",
       "1.0         28\n",
       "0.0         12\n",
       "15.0         2\n",
       "13.0         2\n",
       "16.0         1\n",
       "12.0         1\n",
       "Name: phone, dtype: int64"
      ]
     },
     "execution_count": 23,
     "metadata": {},
     "output_type": "execute_result"
    }
   ],
   "source": [
    "df.phone.str.len().value_counts()"
   ]
  },
  {
   "cell_type": "code",
   "execution_count": 24,
   "metadata": {
    "ExecuteTime": {
     "end_time": "2017-06-06T16:54:58.255817",
     "start_time": "2017-06-06T16:54:56.715207"
    },
    "collapsed": false
   },
   "outputs": [
    {
     "data": {
      "text/plain": [
       "none    22\n",
       "0       18\n",
       "        12\n",
       "null    11\n",
       "        10\n",
       "Name: phone, dtype: int64"
      ]
     },
     "execution_count": 24,
     "metadata": {},
     "output_type": "execute_result"
    }
   ],
   "source": [
    "df[df.phone.str.len() < 5].phone.value_counts()"
   ]
  },
  {
   "cell_type": "markdown",
   "metadata": {
    "run_control": {
     "frozen": true,
     "read_only": true
    }
   },
   "source": [
    "Updating the above values to 'None', as they already offer no real value"
   ]
  },
  {
   "cell_type": "code",
   "execution_count": 25,
   "metadata": {
    "ExecuteTime": {
     "end_time": "2017-06-06T16:55:02.215697",
     "start_time": "2017-06-06T16:55:00.036111"
    },
    "collapsed": true
   },
   "outputs": [],
   "source": [
    "df.loc[df.phone.str.len()<5,'phone'] = None"
   ]
  },
  {
   "cell_type": "markdown",
   "metadata": {},
   "source": [
    "Let's take a look at some of the values from different string lengths to see what we're working with."
   ]
  },
  {
   "cell_type": "code",
   "execution_count": 26,
   "metadata": {
    "ExecuteTime": {
     "end_time": "2017-06-06T16:55:04.857115",
     "start_time": "2017-06-06T16:55:02.769822"
    },
    "collapsed": false
   },
   "outputs": [
    {
     "data": {
      "text/plain": [
       "0     3123628000\n",
       "2     4046331779\n",
       "3     4174513798\n",
       "4     5135612584\n",
       "6     4082621271\n",
       "9     2078825494\n",
       "10    5616897900\n",
       "11    2166910471\n",
       "12    5033361658\n",
       "16    7168339295\n",
       "Name: phone, dtype: object"
      ]
     },
     "execution_count": 26,
     "metadata": {},
     "output_type": "execute_result"
    }
   ],
   "source": [
    "df[df.phone.str.len()==10].phone.iloc[:10]"
   ]
  },
  {
   "cell_type": "code",
   "execution_count": 27,
   "metadata": {
    "ExecuteTime": {
     "end_time": "2017-06-06T16:55:07.488239",
     "start_time": "2017-06-06T16:55:04.861648"
    },
    "collapsed": false
   },
   "outputs": [
    {
     "data": {
      "text/plain": [
       "215     (859) 626-1324\n",
       "376     (814) 208-8252\n",
       "381     (213) 253-3701\n",
       "647     (972) 745-9634\n",
       "674     (708) 482-7328\n",
       "753     (408) 414-8765\n",
       "821     (646) 307-5799\n",
       "836     (949) 222-1316\n",
       "1183    (240) 200-5852\n",
       "1271    (626) 568-6030\n",
       "Name: phone, dtype: object"
      ]
     },
     "execution_count": 27,
     "metadata": {},
     "output_type": "execute_result"
    }
   ],
   "source": [
    "df[df.phone.str.len()>10].phone.iloc[:10]"
   ]
  },
  {
   "cell_type": "markdown",
   "metadata": {},
   "source": [
    "Looks like there are many different formats for the numbers. Importing a package that can help with phonenumbers."
   ]
  },
  {
   "cell_type": "code",
   "execution_count": 28,
   "metadata": {
    "ExecuteTime": {
     "end_time": "2017-06-06T16:55:08.329548",
     "start_time": "2017-06-06T16:55:07.920441"
    },
    "collapsed": false
   },
   "outputs": [],
   "source": [
    "import phonenumbers"
   ]
  },
  {
   "cell_type": "code",
   "execution_count": 29,
   "metadata": {
    "ExecuteTime": {
     "end_time": "2017-06-06T16:55:09.575338",
     "start_time": "2017-06-06T16:55:09.568518"
    },
    "collapsed": false
   },
   "outputs": [],
   "source": [
    "def clean_phone(value):\n",
    "    if value:\n",
    "        phone = phonenumbers.parse(value,None,_check_region=False) #parses out the numbers\n",
    "        phone_final = phonenumbers.format_number(phone,phonenumbers.PhoneNumberFormat.NATIONAL)#formats the numbers\n",
    "        return phone_final"
   ]
  },
  {
   "cell_type": "code",
   "execution_count": 30,
   "metadata": {
    "ExecuteTime": {
     "end_time": "2017-06-06T16:56:07.421539",
     "start_time": "2017-06-06T16:55:10.870456"
    },
    "collapsed": false,
    "scrolled": false
   },
   "outputs": [],
   "source": [
    "df.phone = df.phone.map(lambda x: clean_phone(x))"
   ]
  },
  {
   "cell_type": "code",
   "execution_count": 31,
   "metadata": {
    "ExecuteTime": {
     "end_time": "2017-06-06T16:56:22.412631",
     "start_time": "2017-06-06T16:56:22.027068"
    },
    "collapsed": false,
    "scrolled": true
   },
   "outputs": [
    {
     "data": {
      "text/plain": [
       "10.0    590798\n",
       "Name: phone, dtype: int64"
      ]
     },
     "execution_count": 31,
     "metadata": {},
     "output_type": "execute_result"
    }
   ],
   "source": [
    "#Checking the string length count again to make sure it worked!\n",
    "df.phone.str.len().value_counts()"
   ]
  },
  {
   "cell_type": "markdown",
   "metadata": {},
   "source": [
    "### Revenue"
   ]
  },
  {
   "cell_type": "code",
   "execution_count": 32,
   "metadata": {
    "ExecuteTime": {
     "end_time": "2017-06-06T16:57:07.009774",
     "start_time": "2017-06-06T16:57:01.666032"
    },
    "collapsed": false
   },
   "outputs": [
    {
     "data": {
      "text/plain": [
       "Less Than $500,000        329635\n",
       "$1 to 2.5 Million         169540\n",
       "$500,000 to $1 Million    153163\n",
       "$2.5 to 5 Million          99245\n",
       "$5 to 10 Million           83924\n",
       "$10 to 20 Million          48454\n",
       "$20 to 50 Million          32797\n",
       "$50 to 100 Million         12765\n",
       "$100 to 500 Million        10130\n",
       "Over $1 Billion             1769\n",
       "Over $500 Million           1579\n",
       "null                          19\n",
       "                              16\n",
       "none                          15\n",
       "0                             15\n",
       "0                             15\n",
       "                              11\n",
       "Name: revenue, dtype: int64"
      ]
     },
     "execution_count": 32,
     "metadata": {},
     "output_type": "execute_result"
    }
   ],
   "source": [
    "df.revenue.value_counts()"
   ]
  },
  {
   "cell_type": "code",
   "execution_count": 33,
   "metadata": {
    "ExecuteTime": {
     "end_time": "2017-06-06T16:57:10.364496",
     "start_time": "2017-06-06T16:57:07.021791"
    },
    "collapsed": true
   },
   "outputs": [],
   "source": [
    "df.loc[df.revenue.str.len()<5,'revenue'] = None"
   ]
  },
  {
   "cell_type": "markdown",
   "metadata": {},
   "source": [
    "### State"
   ]
  },
  {
   "cell_type": "code",
   "execution_count": 34,
   "metadata": {
    "ExecuteTime": {
     "end_time": "2017-06-06T16:57:58.479984",
     "start_time": "2017-06-06T16:57:53.354605"
    },
    "collapsed": false,
    "scrolled": true
   },
   "outputs": [
    {
     "data": {
      "text/plain": [
       "CA      122812\n",
       "TX       70301\n",
       "FL       63245\n",
       "NY       57411\n",
       "IL       44126\n",
       "PA       40609\n",
       "OH       36524\n",
       "MI       31237\n",
       "NC       30389\n",
       "MA       30014\n",
       "GA       29797\n",
       "NJ       28837\n",
       "VA       27161\n",
       "WA       24295\n",
       "MN       22243\n",
       "CO       21781\n",
       "MD       19973\n",
       "IN       19861\n",
       "MO       19558\n",
       "WI       18754\n",
       "TN       18445\n",
       "AZ       18152\n",
       "OR       15690\n",
       "CT       15107\n",
       "SC       12842\n",
       "LA       12229\n",
       "AL       12172\n",
       "KY       11393\n",
       "IA       10880\n",
       "KS       10523\n",
       "OK       10456\n",
       "UT        8873\n",
       "AR        7377\n",
       "NE        7080\n",
       "NV        6700\n",
       "NH        6139\n",
       "MS        5864\n",
       "ME        5793\n",
       "ID        5135\n",
       "NM        5076\n",
       "DC        4499\n",
       "RI        3880\n",
       "MT        3817\n",
       "HI        3754\n",
       "SD        3306\n",
       "WV        3217\n",
       "VT        3029\n",
       "DE        2849\n",
       "AK        2515\n",
       "ND        2315\n",
       "WY        1858\n",
       "0           21\n",
       "null        20\n",
       "            15\n",
       "            14\n",
       "0           11\n",
       "none         9\n",
       "PR           2\n",
       "VI           1\n",
       "Name: state, dtype: int64"
      ]
     },
     "execution_count": 34,
     "metadata": {},
     "output_type": "execute_result"
    }
   ],
   "source": [
    "df.state.value_counts()"
   ]
  },
  {
   "cell_type": "code",
   "execution_count": 35,
   "metadata": {
    "ExecuteTime": {
     "end_time": "2017-06-06T16:58:00.305386",
     "start_time": "2017-06-06T16:57:58.484851"
    },
    "collapsed": true
   },
   "outputs": [],
   "source": [
    "df.loc[df.state == ' ','state'] = None"
   ]
  },
  {
   "cell_type": "code",
   "execution_count": 36,
   "metadata": {
    "ExecuteTime": {
     "end_time": "2017-06-06T16:58:01.520643",
     "start_time": "2017-06-06T16:58:00.311463"
    },
    "collapsed": true
   },
   "outputs": [],
   "source": [
    "df.loc[df.state == 'none','state'] = None\n",
    "df.loc[df.state == '0','state'] = None\n",
    "df.loc[df.state == 0,'state'] = None"
   ]
  },
  {
   "cell_type": "code",
   "execution_count": 37,
   "metadata": {
    "ExecuteTime": {
     "end_time": "2017-06-06T16:58:03.396924",
     "start_time": "2017-06-06T16:58:01.571088"
    },
    "collapsed": false,
    "scrolled": true
   },
   "outputs": [
    {
     "data": {
      "text/plain": [
       "CA      122812\n",
       "TX       70301\n",
       "FL       63245\n",
       "NY       57411\n",
       "IL       44126\n",
       "PA       40609\n",
       "OH       36524\n",
       "MI       31237\n",
       "NC       30389\n",
       "MA       30014\n",
       "GA       29797\n",
       "NJ       28837\n",
       "VA       27161\n",
       "WA       24295\n",
       "MN       22243\n",
       "CO       21781\n",
       "MD       19973\n",
       "IN       19861\n",
       "MO       19558\n",
       "WI       18754\n",
       "TN       18445\n",
       "AZ       18152\n",
       "OR       15690\n",
       "CT       15107\n",
       "SC       12842\n",
       "LA       12229\n",
       "AL       12172\n",
       "KY       11393\n",
       "IA       10880\n",
       "KS       10523\n",
       "OK       10456\n",
       "UT        8873\n",
       "AR        7377\n",
       "NE        7080\n",
       "NV        6700\n",
       "NH        6139\n",
       "MS        5864\n",
       "ME        5793\n",
       "ID        5135\n",
       "NM        5076\n",
       "DC        4499\n",
       "RI        3880\n",
       "MT        3817\n",
       "HI        3754\n",
       "SD        3306\n",
       "WV        3217\n",
       "VT        3029\n",
       "DE        2849\n",
       "AK        2515\n",
       "ND        2315\n",
       "WY        1858\n",
       "null        20\n",
       "            14\n",
       "PR           2\n",
       "VI           1\n",
       "Name: state, dtype: int64"
      ]
     },
     "execution_count": 37,
     "metadata": {},
     "output_type": "execute_result"
    }
   ],
   "source": [
    "df.state.value_counts()"
   ]
  },
  {
   "cell_type": "markdown",
   "metadata": {},
   "source": [
    "### Time in Business"
   ]
  },
  {
   "cell_type": "code",
   "execution_count": 38,
   "metadata": {
    "ExecuteTime": {
     "end_time": "2017-06-06T16:58:45.826313",
     "start_time": "2017-06-06T16:58:40.595761"
    },
    "collapsed": false
   },
   "outputs": [
    {
     "data": {
      "text/plain": [
       "10+ years           758867\n",
       "6-10 years          106144\n",
       "3-5 years            38280\n",
       "1-2 years            12756\n",
       "null                    17\n",
       "0                       15\n",
       "none                    14\n",
       "                        13\n",
       "                        11\n",
       "0                        7\n",
       "Less than a year         1\n",
       "Name: time_in_business, dtype: int64"
      ]
     },
     "execution_count": 38,
     "metadata": {},
     "output_type": "execute_result"
    }
   ],
   "source": [
    "df.time_in_business.value_counts()"
   ]
  },
  {
   "cell_type": "code",
   "execution_count": 39,
   "metadata": {
    "ExecuteTime": {
     "end_time": "2017-06-06T16:58:50.378354",
     "start_time": "2017-06-06T16:58:45.835375"
    },
    "collapsed": true
   },
   "outputs": [],
   "source": [
    "df.loc[df.time_in_business == 'none','time_in_business'] = None\n",
    "df.loc[df.time_in_business == '0','time_in_business'] = None\n",
    "df.loc[df.time_in_business == 0,'time_in_business'] = None\n",
    "df.loc[df.time_in_business == ' ','time_in_business'] = None\n",
    "df.loc[df.time_in_business == 'null','time_in_business'] = None"
   ]
  },
  {
   "cell_type": "code",
   "execution_count": 40,
   "metadata": {
    "ExecuteTime": {
     "end_time": "2017-06-06T16:58:51.120750",
     "start_time": "2017-06-06T16:58:50.385219"
    },
    "collapsed": false
   },
   "outputs": [
    {
     "data": {
      "text/plain": [
       "10+ years           758867\n",
       "6-10 years          106144\n",
       "3-5 years            38280\n",
       "1-2 years            12756\n",
       "                        11\n",
       "Less than a year         1\n",
       "Name: time_in_business, dtype: int64"
      ]
     },
     "execution_count": 40,
     "metadata": {},
     "output_type": "execute_result"
    }
   ],
   "source": [
    "df.time_in_business.value_counts()"
   ]
  },
  {
   "cell_type": "markdown",
   "metadata": {},
   "source": [
    "### Zip"
   ]
  },
  {
   "cell_type": "code",
   "execution_count": 41,
   "metadata": {
    "ExecuteTime": {
     "end_time": "2017-06-06T16:59:54.039254",
     "start_time": "2017-06-06T16:59:49.441479"
    },
    "collapsed": false
   },
   "outputs": [
    {
     "data": {
      "text/plain": [
       "5.0    953374\n",
       "4.0     46553\n",
       "1.0        28\n",
       "0.0        19\n",
       "Name: zip, dtype: int64"
      ]
     },
     "execution_count": 41,
     "metadata": {},
     "output_type": "execute_result"
    }
   ],
   "source": [
    "df.zip.str.len().value_counts()"
   ]
  },
  {
   "cell_type": "markdown",
   "metadata": {
    "ExecuteTime": {
     "end_time": "2017-06-02T21:49:14.204374",
     "start_time": "2017-06-02T21:49:12.503741"
    }
   },
   "source": [
    "According to this article (https://www.zip-codes.com/learn-about/why-are-there-3-and-4-digit-zip-codes-in-the-united-states.asp) zip codes are *always* 5-digits, and ones that are shorter are actually preceded by zeros. Need to do more research to determine if zeros can end a zip code as well, which would cause an issue as there are ~47,000 4-digit codes so a zero could be either leading or ending it."
   ]
  },
  {
   "cell_type": "code",
   "execution_count": 42,
   "metadata": {
    "ExecuteTime": {
     "end_time": "2017-06-06T16:59:57.328703",
     "start_time": "2017-06-06T16:59:54.044672"
    },
    "collapsed": true
   },
   "outputs": [],
   "source": [
    "df.loc[df.zip.str.len() <2,'zip'] = None"
   ]
  },
  {
   "cell_type": "code",
   "execution_count": 43,
   "metadata": {
    "ExecuteTime": {
     "end_time": "2017-06-06T17:00:00.018349",
     "start_time": "2017-06-06T16:59:57.339973"
    },
    "collapsed": false
   },
   "outputs": [
    {
     "data": {
      "text/plain": [
       "5.0    953374\n",
       "4.0     46553\n",
       "Name: zip, dtype: int64"
      ]
     },
     "execution_count": 43,
     "metadata": {},
     "output_type": "execute_result"
    }
   ],
   "source": [
    "df.zip.str.len().value_counts()"
   ]
  },
  {
   "cell_type": "markdown",
   "metadata": {},
   "source": [
    "### Saving file"
   ]
  },
  {
   "cell_type": "code",
   "execution_count": 44,
   "metadata": {
    "ExecuteTime": {
     "end_time": "2017-06-06T17:01:54.897868",
     "start_time": "2017-06-06T17:00:00.023107"
    },
    "collapsed": false
   },
   "outputs": [],
   "source": [
    "df.to_csv('./Downloads/cleaned_df.csv',encoding=\"utf-8\")"
   ]
  },
  {
   "cell_type": "markdown",
   "metadata": {},
   "source": [
    "# True Fill Rates"
   ]
  },
  {
   "cell_type": "code",
   "execution_count": 45,
   "metadata": {
    "ExecuteTime": {
     "end_time": "2017-06-06T17:03:35.543544",
     "start_time": "2017-06-06T17:02:24.033105"
    },
    "collapsed": false
   },
   "outputs": [
    {
     "name": "stdout",
     "output_type": "stream",
     "text": [
      "address : 0.99991\n",
      "category_code : 0.99992\n",
      "city : 0.99994\n",
      "headcount : 0.96228\n",
      "name : 0.99994\n",
      "phone : 0.5908\n",
      "revenue : 0.94302\n",
      "state : 0.99993\n",
      "time_in_business : 0.91606\n",
      "zip : 0.99994\n"
     ]
    }
   ],
   "source": [
    "fill_rates(df)"
   ]
  },
  {
   "cell_type": "markdown",
   "metadata": {},
   "source": [
    "# Cardinality"
   ]
  },
  {
   "cell_type": "code",
   "execution_count": 46,
   "metadata": {
    "ExecuteTime": {
     "end_time": "2017-06-06T17:03:35.738535",
     "start_time": "2017-06-06T17:03:35.554771"
    },
    "collapsed": true
   },
   "outputs": [],
   "source": [
    "def cardinality(df):\n",
    "    for c in df.columns:\n",
    "        print str(c) + ': \\n',len(set(df[c]))"
   ]
  },
  {
   "cell_type": "code",
   "execution_count": 47,
   "metadata": {
    "ExecuteTime": {
     "end_time": "2017-06-06T17:04:20.366344",
     "start_time": "2017-06-06T17:03:37.984943"
    },
    "collapsed": false,
    "scrolled": false
   },
   "outputs": [
    {
     "name": "stdout",
     "output_type": "stream",
     "text": [
      "category_code: \n",
      "1180\n",
      "city: \n",
      "13718\n",
      "headcount: \n",
      "11\n",
      "revenue: \n",
      "13\n",
      "time_in_business: \n",
      "7\n"
     ]
    }
   ],
   "source": [
    "cardinality(df[['category_code','city','headcount','revenue','time_in_business']])"
   ]
  },
  {
   "cell_type": "markdown",
   "metadata": {},
   "source": [
    "# Other"
   ]
  },
  {
   "cell_type": "code",
   "execution_count": 48,
   "metadata": {
    "ExecuteTime": {
     "end_time": "2017-06-06T17:07:19.326776",
     "start_time": "2017-06-06T17:06:48.582823"
    },
    "collapsed": false,
    "scrolled": false
   },
   "outputs": [
    {
     "data": {
      "text/plain": [
       "(509373, 10)"
      ]
     },
     "execution_count": 48,
     "metadata": {},
     "output_type": "execute_result"
    }
   ],
   "source": [
    "df[df.isnull().any(axis=1)].shape"
   ]
  },
  {
   "cell_type": "markdown",
   "metadata": {},
   "source": [
    "The above line of code tells us that there are ~509,000 records that have at least one value that is missing. Most of which are probably due to a missing phone field."
   ]
  },
  {
   "cell_type": "markdown",
   "metadata": {},
   "source": [
    "It would be interesting to see the most common category codes"
   ]
  },
  {
   "cell_type": "code",
   "execution_count": 49,
   "metadata": {
    "ExecuteTime": {
     "end_time": "2017-06-06T17:07:31.278760",
     "start_time": "2017-06-06T17:07:19.349736"
    },
    "collapsed": false
   },
   "outputs": [],
   "source": [
    "codes = df.groupby(['category_code']).count()\n",
    "codes = codes.reset_index()"
   ]
  },
  {
   "cell_type": "code",
   "execution_count": 50,
   "metadata": {
    "ExecuteTime": {
     "end_time": "2017-06-06T17:07:31.306513",
     "start_time": "2017-06-06T17:07:31.288687"
    },
    "collapsed": false
   },
   "outputs": [],
   "source": [
    "codes['Count'] = codes['address']"
   ]
  },
  {
   "cell_type": "code",
   "execution_count": 51,
   "metadata": {
    "ExecuteTime": {
     "end_time": "2017-06-06T17:07:31.394019",
     "start_time": "2017-06-06T17:07:31.309037"
    },
    "collapsed": false
   },
   "outputs": [],
   "source": [
    "codes = codes[['category_code','Count']]"
   ]
  },
  {
   "cell_type": "code",
   "execution_count": 52,
   "metadata": {
    "ExecuteTime": {
     "end_time": "2017-06-06T17:07:31.634796",
     "start_time": "2017-06-06T17:07:31.406061"
    },
    "collapsed": false
   },
   "outputs": [
    {
     "name": "stderr",
     "output_type": "stream",
     "text": [
      "/Users/veenakumar/anaconda2/lib/python2.7/site-packages/ipykernel/__main__.py:2: FutureWarning: sort(columns=....) is deprecated, use sort_values(by=.....)\n",
      "  from ipykernel import kernelapp as app\n"
     ]
    },
    {
     "data": {
      "text/html": [
       "<div>\n",
       "<table border=\"1\" class=\"dataframe\">\n",
       "  <thead>\n",
       "    <tr style=\"text-align: right;\">\n",
       "      <th></th>\n",
       "      <th>category_code</th>\n",
       "      <th>Count</th>\n",
       "    </tr>\n",
       "  </thead>\n",
       "  <tbody>\n",
       "    <tr>\n",
       "      <th>922</th>\n",
       "      <td>61111000</td>\n",
       "      <td>39458</td>\n",
       "    </tr>\n",
       "    <tr>\n",
       "      <th>800</th>\n",
       "      <td>54111000</td>\n",
       "      <td>37888</td>\n",
       "    </tr>\n",
       "    <tr>\n",
       "      <th>783</th>\n",
       "      <td>53120000</td>\n",
       "      <td>32576</td>\n",
       "    </tr>\n",
       "    <tr>\n",
       "      <th>797</th>\n",
       "      <td>54000000</td>\n",
       "      <td>31739</td>\n",
       "    </tr>\n",
       "    <tr>\n",
       "      <th>392</th>\n",
       "      <td>42000000</td>\n",
       "      <td>30167</td>\n",
       "    </tr>\n",
       "    <tr>\n",
       "      <th>945</th>\n",
       "      <td>62110000</td>\n",
       "      <td>29203</td>\n",
       "    </tr>\n",
       "    <tr>\n",
       "      <th>798</th>\n",
       "      <td>54100000</td>\n",
       "      <td>28690</td>\n",
       "    </tr>\n",
       "    <tr>\n",
       "      <th>66</th>\n",
       "      <td>23000000</td>\n",
       "      <td>27535</td>\n",
       "    </tr>\n",
       "    <tr>\n",
       "      <th>769</th>\n",
       "      <td>52420000</td>\n",
       "      <td>26887</td>\n",
       "    </tr>\n",
       "    <tr>\n",
       "      <th>988</th>\n",
       "      <td>62400000</td>\n",
       "      <td>22003</td>\n",
       "    </tr>\n",
       "  </tbody>\n",
       "</table>\n",
       "</div>"
      ],
      "text/plain": [
       "    category_code  Count\n",
       "922      61111000  39458\n",
       "800      54111000  37888\n",
       "783      53120000  32576\n",
       "797      54000000  31739\n",
       "392      42000000  30167\n",
       "945      62110000  29203\n",
       "798      54100000  28690\n",
       "66       23000000  27535\n",
       "769      52420000  26887\n",
       "988      62400000  22003"
      ]
     },
     "execution_count": 52,
     "metadata": {},
     "output_type": "execute_result"
    }
   ],
   "source": [
    "#Sorting the columns by Count to see the top NAICS codes\n",
    "codes.sort(columns='Count',ascending=False).iloc[:10]"
   ]
  },
  {
   "cell_type": "markdown",
   "metadata": {},
   "source": [
    "Looking them up on the NAICS website to see what they are!  \n",
    "\n",
    "**61111** : Schools/Education  \n",
    "**54111** : Law Offices/Services  \n",
    "**5312** : Real Estate Services  \n",
    "**54** : Professional, Scientific, and Technical Services  \n",
    "**42** : Wholesalers  \n",
    "**6211** : Physician's Offices  \n",
    "**541** : Professional, Scientific, and Technical Services  \n",
    "**23** : Construction Services  \n",
    "**5242** : Agencies, Brokerages, and Insurance Related Activities  \n",
    "**624** : Social Assistance  \n"
   ]
  },
  {
   "cell_type": "markdown",
   "metadata": {},
   "source": [
    "Okay, so let's put this into a business context. Let's say a client's company provides HR services. Let's make the assumption that companies that have been around for fewer number of years are less likely to have a robust HR department, and thus potential clients. To further narrow down our target audience, let's also assume that smaller companies are more likely to use a third-party HR service for their needs, due to lack of resources to handle those services. Okay, let's look at the snapshot."
   ]
  },
  {
   "cell_type": "code",
   "execution_count": 53,
   "metadata": {
    "ExecuteTime": {
     "end_time": "2017-06-06T17:08:03.398071",
     "start_time": "2017-06-06T17:07:40.192122"
    },
    "collapsed": false
   },
   "outputs": [
    {
     "data": {
      "text/html": [
       "<div>\n",
       "<table border=\"1\" class=\"dataframe\">\n",
       "  <thead>\n",
       "    <tr style=\"text-align: right;\">\n",
       "      <th></th>\n",
       "      <th></th>\n",
       "      <th>address</th>\n",
       "      <th>category_code</th>\n",
       "      <th>city</th>\n",
       "      <th>name</th>\n",
       "      <th>phone</th>\n",
       "      <th>revenue</th>\n",
       "      <th>state</th>\n",
       "      <th>zip</th>\n",
       "    </tr>\n",
       "    <tr>\n",
       "      <th>time_in_business</th>\n",
       "      <th>headcount</th>\n",
       "      <th></th>\n",
       "      <th></th>\n",
       "      <th></th>\n",
       "      <th></th>\n",
       "      <th></th>\n",
       "      <th></th>\n",
       "      <th></th>\n",
       "      <th></th>\n",
       "    </tr>\n",
       "  </thead>\n",
       "  <tbody>\n",
       "    <tr>\n",
       "      <th rowspan=\"5\" valign=\"top\"></th>\n",
       "      <th>1 to 4</th>\n",
       "      <td>3</td>\n",
       "      <td>3</td>\n",
       "      <td>3</td>\n",
       "      <td>3</td>\n",
       "      <td>2</td>\n",
       "      <td>3</td>\n",
       "      <td>3</td>\n",
       "      <td>3</td>\n",
       "    </tr>\n",
       "    <tr>\n",
       "      <th>10 to 19</th>\n",
       "      <td>1</td>\n",
       "      <td>1</td>\n",
       "      <td>1</td>\n",
       "      <td>1</td>\n",
       "      <td>1</td>\n",
       "      <td>1</td>\n",
       "      <td>1</td>\n",
       "      <td>1</td>\n",
       "    </tr>\n",
       "    <tr>\n",
       "      <th>100 to 249</th>\n",
       "      <td>2</td>\n",
       "      <td>2</td>\n",
       "      <td>2</td>\n",
       "      <td>2</td>\n",
       "      <td>0</td>\n",
       "      <td>2</td>\n",
       "      <td>2</td>\n",
       "      <td>2</td>\n",
       "    </tr>\n",
       "    <tr>\n",
       "      <th>20 to 49</th>\n",
       "      <td>1</td>\n",
       "      <td>1</td>\n",
       "      <td>1</td>\n",
       "      <td>1</td>\n",
       "      <td>1</td>\n",
       "      <td>1</td>\n",
       "      <td>1</td>\n",
       "      <td>1</td>\n",
       "    </tr>\n",
       "    <tr>\n",
       "      <th>5 to 9</th>\n",
       "      <td>3</td>\n",
       "      <td>3</td>\n",
       "      <td>3</td>\n",
       "      <td>3</td>\n",
       "      <td>2</td>\n",
       "      <td>3</td>\n",
       "      <td>3</td>\n",
       "      <td>3</td>\n",
       "    </tr>\n",
       "    <tr>\n",
       "      <th rowspan=\"9\" valign=\"top\">1-2 years</th>\n",
       "      <th>1 to 4</th>\n",
       "      <td>4494</td>\n",
       "      <td>4494</td>\n",
       "      <td>4494</td>\n",
       "      <td>4494</td>\n",
       "      <td>2635</td>\n",
       "      <td>4254</td>\n",
       "      <td>4494</td>\n",
       "      <td>4494</td>\n",
       "    </tr>\n",
       "    <tr>\n",
       "      <th>10 to 19</th>\n",
       "      <td>1946</td>\n",
       "      <td>1946</td>\n",
       "      <td>1945</td>\n",
       "      <td>1945</td>\n",
       "      <td>1130</td>\n",
       "      <td>1842</td>\n",
       "      <td>1946</td>\n",
       "      <td>1945</td>\n",
       "    </tr>\n",
       "    <tr>\n",
       "      <th>100 to 249</th>\n",
       "      <td>476</td>\n",
       "      <td>476</td>\n",
       "      <td>476</td>\n",
       "      <td>476</td>\n",
       "      <td>283</td>\n",
       "      <td>456</td>\n",
       "      <td>476</td>\n",
       "      <td>476</td>\n",
       "    </tr>\n",
       "    <tr>\n",
       "      <th>20 to 49</th>\n",
       "      <td>1567</td>\n",
       "      <td>1568</td>\n",
       "      <td>1568</td>\n",
       "      <td>1568</td>\n",
       "      <td>930</td>\n",
       "      <td>1490</td>\n",
       "      <td>1568</td>\n",
       "      <td>1568</td>\n",
       "    </tr>\n",
       "    <tr>\n",
       "      <th>250 to 499</th>\n",
       "      <td>146</td>\n",
       "      <td>146</td>\n",
       "      <td>146</td>\n",
       "      <td>146</td>\n",
       "      <td>95</td>\n",
       "      <td>135</td>\n",
       "      <td>146</td>\n",
       "      <td>146</td>\n",
       "    </tr>\n",
       "    <tr>\n",
       "      <th>5 to 9</th>\n",
       "      <td>2730</td>\n",
       "      <td>2730</td>\n",
       "      <td>2730</td>\n",
       "      <td>2730</td>\n",
       "      <td>1631</td>\n",
       "      <td>2562</td>\n",
       "      <td>2729</td>\n",
       "      <td>2730</td>\n",
       "    </tr>\n",
       "    <tr>\n",
       "      <th>50 to 99</th>\n",
       "      <td>757</td>\n",
       "      <td>757</td>\n",
       "      <td>757</td>\n",
       "      <td>757</td>\n",
       "      <td>447</td>\n",
       "      <td>710</td>\n",
       "      <td>757</td>\n",
       "      <td>757</td>\n",
       "    </tr>\n",
       "    <tr>\n",
       "      <th>500 to 999</th>\n",
       "      <td>68</td>\n",
       "      <td>68</td>\n",
       "      <td>68</td>\n",
       "      <td>68</td>\n",
       "      <td>43</td>\n",
       "      <td>64</td>\n",
       "      <td>68</td>\n",
       "      <td>68</td>\n",
       "    </tr>\n",
       "    <tr>\n",
       "      <th>Over 1,000</th>\n",
       "      <td>84</td>\n",
       "      <td>84</td>\n",
       "      <td>84</td>\n",
       "      <td>84</td>\n",
       "      <td>49</td>\n",
       "      <td>79</td>\n",
       "      <td>84</td>\n",
       "      <td>84</td>\n",
       "    </tr>\n",
       "    <tr>\n",
       "      <th rowspan=\"10\" valign=\"top\">10+ years</th>\n",
       "      <th>0</th>\n",
       "      <td>6</td>\n",
       "      <td>6</td>\n",
       "      <td>6</td>\n",
       "      <td>6</td>\n",
       "      <td>4</td>\n",
       "      <td>6</td>\n",
       "      <td>6</td>\n",
       "      <td>6</td>\n",
       "    </tr>\n",
       "    <tr>\n",
       "      <th>1 to 4</th>\n",
       "      <td>271641</td>\n",
       "      <td>271633</td>\n",
       "      <td>271649</td>\n",
       "      <td>271651</td>\n",
       "      <td>160771</td>\n",
       "      <td>256007</td>\n",
       "      <td>271640</td>\n",
       "      <td>271644</td>\n",
       "    </tr>\n",
       "    <tr>\n",
       "      <th>10 to 19</th>\n",
       "      <td>114927</td>\n",
       "      <td>114934</td>\n",
       "      <td>114933</td>\n",
       "      <td>114932</td>\n",
       "      <td>67691</td>\n",
       "      <td>108402</td>\n",
       "      <td>114933</td>\n",
       "      <td>114934</td>\n",
       "    </tr>\n",
       "    <tr>\n",
       "      <th>100 to 249</th>\n",
       "      <td>27716</td>\n",
       "      <td>27714</td>\n",
       "      <td>27715</td>\n",
       "      <td>27713</td>\n",
       "      <td>16219</td>\n",
       "      <td>26145</td>\n",
       "      <td>27716</td>\n",
       "      <td>27714</td>\n",
       "    </tr>\n",
       "    <tr>\n",
       "      <th>20 to 49</th>\n",
       "      <td>92083</td>\n",
       "      <td>92081</td>\n",
       "      <td>92084</td>\n",
       "      <td>92086</td>\n",
       "      <td>54307</td>\n",
       "      <td>86811</td>\n",
       "      <td>92084</td>\n",
       "      <td>92086</td>\n",
       "    </tr>\n",
       "    <tr>\n",
       "      <th>250 to 499</th>\n",
       "      <td>8555</td>\n",
       "      <td>8555</td>\n",
       "      <td>8556</td>\n",
       "      <td>8555</td>\n",
       "      <td>5117</td>\n",
       "      <td>8055</td>\n",
       "      <td>8555</td>\n",
       "      <td>8556</td>\n",
       "    </tr>\n",
       "    <tr>\n",
       "      <th>5 to 9</th>\n",
       "      <td>160990</td>\n",
       "      <td>160996</td>\n",
       "      <td>160996</td>\n",
       "      <td>161000</td>\n",
       "      <td>95241</td>\n",
       "      <td>151924</td>\n",
       "      <td>160995</td>\n",
       "      <td>160999</td>\n",
       "    </tr>\n",
       "    <tr>\n",
       "      <th>50 to 99</th>\n",
       "      <td>46104</td>\n",
       "      <td>46105</td>\n",
       "      <td>46103</td>\n",
       "      <td>46103</td>\n",
       "      <td>27275</td>\n",
       "      <td>43554</td>\n",
       "      <td>46103</td>\n",
       "      <td>46104</td>\n",
       "    </tr>\n",
       "    <tr>\n",
       "      <th>500 to 999</th>\n",
       "      <td>4015</td>\n",
       "      <td>4015</td>\n",
       "      <td>4015</td>\n",
       "      <td>4015</td>\n",
       "      <td>2388</td>\n",
       "      <td>3775</td>\n",
       "      <td>4015</td>\n",
       "      <td>4015</td>\n",
       "    </tr>\n",
       "    <tr>\n",
       "      <th>Over 1,000</th>\n",
       "      <td>4179</td>\n",
       "      <td>4180</td>\n",
       "      <td>4180</td>\n",
       "      <td>4179</td>\n",
       "      <td>2455</td>\n",
       "      <td>3960</td>\n",
       "      <td>4180</td>\n",
       "      <td>4180</td>\n",
       "    </tr>\n",
       "    <tr>\n",
       "      <th rowspan=\"10\" valign=\"top\">3-5 years</th>\n",
       "      <th>0</th>\n",
       "      <td>1</td>\n",
       "      <td>1</td>\n",
       "      <td>1</td>\n",
       "      <td>1</td>\n",
       "      <td>1</td>\n",
       "      <td>1</td>\n",
       "      <td>1</td>\n",
       "      <td>1</td>\n",
       "    </tr>\n",
       "    <tr>\n",
       "      <th>1 to 4</th>\n",
       "      <td>13890</td>\n",
       "      <td>13890</td>\n",
       "      <td>13890</td>\n",
       "      <td>13890</td>\n",
       "      <td>8165</td>\n",
       "      <td>13070</td>\n",
       "      <td>13888</td>\n",
       "      <td>13888</td>\n",
       "    </tr>\n",
       "    <tr>\n",
       "      <th>10 to 19</th>\n",
       "      <td>5761</td>\n",
       "      <td>5762</td>\n",
       "      <td>5761</td>\n",
       "      <td>5762</td>\n",
       "      <td>3406</td>\n",
       "      <td>5438</td>\n",
       "      <td>5762</td>\n",
       "      <td>5761</td>\n",
       "    </tr>\n",
       "    <tr>\n",
       "      <th>100 to 249</th>\n",
       "      <td>1342</td>\n",
       "      <td>1342</td>\n",
       "      <td>1342</td>\n",
       "      <td>1342</td>\n",
       "      <td>758</td>\n",
       "      <td>1269</td>\n",
       "      <td>1342</td>\n",
       "      <td>1342</td>\n",
       "    </tr>\n",
       "    <tr>\n",
       "      <th>20 to 49</th>\n",
       "      <td>4581</td>\n",
       "      <td>4581</td>\n",
       "      <td>4582</td>\n",
       "      <td>4581</td>\n",
       "      <td>2709</td>\n",
       "      <td>4338</td>\n",
       "      <td>4582</td>\n",
       "      <td>4582</td>\n",
       "    </tr>\n",
       "    <tr>\n",
       "      <th>250 to 499</th>\n",
       "      <td>392</td>\n",
       "      <td>392</td>\n",
       "      <td>392</td>\n",
       "      <td>392</td>\n",
       "      <td>242</td>\n",
       "      <td>374</td>\n",
       "      <td>392</td>\n",
       "      <td>392</td>\n",
       "    </tr>\n",
       "    <tr>\n",
       "      <th>5 to 9</th>\n",
       "      <td>8180</td>\n",
       "      <td>8180</td>\n",
       "      <td>8179</td>\n",
       "      <td>8180</td>\n",
       "      <td>4840</td>\n",
       "      <td>7663</td>\n",
       "      <td>8181</td>\n",
       "      <td>8181</td>\n",
       "    </tr>\n",
       "    <tr>\n",
       "      <th>50 to 99</th>\n",
       "      <td>2249</td>\n",
       "      <td>2249</td>\n",
       "      <td>2249</td>\n",
       "      <td>2249</td>\n",
       "      <td>1316</td>\n",
       "      <td>2131</td>\n",
       "      <td>2247</td>\n",
       "      <td>2249</td>\n",
       "    </tr>\n",
       "    <tr>\n",
       "      <th>500 to 999</th>\n",
       "      <td>193</td>\n",
       "      <td>193</td>\n",
       "      <td>193</td>\n",
       "      <td>193</td>\n",
       "      <td>110</td>\n",
       "      <td>184</td>\n",
       "      <td>193</td>\n",
       "      <td>193</td>\n",
       "    </tr>\n",
       "    <tr>\n",
       "      <th>Over 1,000</th>\n",
       "      <td>223</td>\n",
       "      <td>223</td>\n",
       "      <td>223</td>\n",
       "      <td>223</td>\n",
       "      <td>131</td>\n",
       "      <td>209</td>\n",
       "      <td>223</td>\n",
       "      <td>223</td>\n",
       "    </tr>\n",
       "    <tr>\n",
       "      <th rowspan=\"10\" valign=\"top\">6-10 years</th>\n",
       "      <th>0</th>\n",
       "      <td>1</td>\n",
       "      <td>1</td>\n",
       "      <td>1</td>\n",
       "      <td>1</td>\n",
       "      <td>0</td>\n",
       "      <td>1</td>\n",
       "      <td>1</td>\n",
       "      <td>1</td>\n",
       "    </tr>\n",
       "    <tr>\n",
       "      <th>1 to 4</th>\n",
       "      <td>38254</td>\n",
       "      <td>38252</td>\n",
       "      <td>38252</td>\n",
       "      <td>38252</td>\n",
       "      <td>22548</td>\n",
       "      <td>36131</td>\n",
       "      <td>38252</td>\n",
       "      <td>38253</td>\n",
       "    </tr>\n",
       "    <tr>\n",
       "      <th>10 to 19</th>\n",
       "      <td>15957</td>\n",
       "      <td>15958</td>\n",
       "      <td>15960</td>\n",
       "      <td>15959</td>\n",
       "      <td>9421</td>\n",
       "      <td>15052</td>\n",
       "      <td>15958</td>\n",
       "      <td>15960</td>\n",
       "    </tr>\n",
       "    <tr>\n",
       "      <th>100 to 249</th>\n",
       "      <td>3892</td>\n",
       "      <td>3893</td>\n",
       "      <td>3893</td>\n",
       "      <td>3893</td>\n",
       "      <td>2294</td>\n",
       "      <td>3652</td>\n",
       "      <td>3893</td>\n",
       "      <td>3893</td>\n",
       "    </tr>\n",
       "    <tr>\n",
       "      <th>20 to 49</th>\n",
       "      <td>12762</td>\n",
       "      <td>12762</td>\n",
       "      <td>12763</td>\n",
       "      <td>12765</td>\n",
       "      <td>7480</td>\n",
       "      <td>12016</td>\n",
       "      <td>12763</td>\n",
       "      <td>12765</td>\n",
       "    </tr>\n",
       "    <tr>\n",
       "      <th>250 to 499</th>\n",
       "      <td>1154</td>\n",
       "      <td>1155</td>\n",
       "      <td>1155</td>\n",
       "      <td>1155</td>\n",
       "      <td>687</td>\n",
       "      <td>1096</td>\n",
       "      <td>1155</td>\n",
       "      <td>1155</td>\n",
       "    </tr>\n",
       "    <tr>\n",
       "      <th>5 to 9</th>\n",
       "      <td>22580</td>\n",
       "      <td>22583</td>\n",
       "      <td>22583</td>\n",
       "      <td>22583</td>\n",
       "      <td>13323</td>\n",
       "      <td>21315</td>\n",
       "      <td>22582</td>\n",
       "      <td>22581</td>\n",
       "    </tr>\n",
       "    <tr>\n",
       "      <th>50 to 99</th>\n",
       "      <td>6441</td>\n",
       "      <td>6441</td>\n",
       "      <td>6440</td>\n",
       "      <td>6440</td>\n",
       "      <td>3792</td>\n",
       "      <td>6073</td>\n",
       "      <td>6441</td>\n",
       "      <td>6441</td>\n",
       "    </tr>\n",
       "    <tr>\n",
       "      <th>500 to 999</th>\n",
       "      <td>552</td>\n",
       "      <td>552</td>\n",
       "      <td>552</td>\n",
       "      <td>552</td>\n",
       "      <td>323</td>\n",
       "      <td>526</td>\n",
       "      <td>551</td>\n",
       "      <td>552</td>\n",
       "    </tr>\n",
       "    <tr>\n",
       "      <th>Over 1,000</th>\n",
       "      <td>618</td>\n",
       "      <td>618</td>\n",
       "      <td>618</td>\n",
       "      <td>618</td>\n",
       "      <td>349</td>\n",
       "      <td>585</td>\n",
       "      <td>618</td>\n",
       "      <td>618</td>\n",
       "    </tr>\n",
       "  </tbody>\n",
       "</table>\n",
       "</div>"
      ],
      "text/plain": [
       "                             address  category_code    city    name   phone  \\\n",
       "time_in_business headcount                                                    \n",
       "                 1 to 4            3              3       3       3       2   \n",
       "                 10 to 19          1              1       1       1       1   \n",
       "                 100 to 249        2              2       2       2       0   \n",
       "                 20 to 49          1              1       1       1       1   \n",
       "                 5 to 9            3              3       3       3       2   \n",
       "1-2 years        1 to 4         4494           4494    4494    4494    2635   \n",
       "                 10 to 19       1946           1946    1945    1945    1130   \n",
       "                 100 to 249      476            476     476     476     283   \n",
       "                 20 to 49       1567           1568    1568    1568     930   \n",
       "                 250 to 499      146            146     146     146      95   \n",
       "                 5 to 9         2730           2730    2730    2730    1631   \n",
       "                 50 to 99        757            757     757     757     447   \n",
       "                 500 to 999       68             68      68      68      43   \n",
       "                 Over 1,000       84             84      84      84      49   \n",
       "10+ years        0                 6              6       6       6       4   \n",
       "                 1 to 4       271641         271633  271649  271651  160771   \n",
       "                 10 to 19     114927         114934  114933  114932   67691   \n",
       "                 100 to 249    27716          27714   27715   27713   16219   \n",
       "                 20 to 49      92083          92081   92084   92086   54307   \n",
       "                 250 to 499     8555           8555    8556    8555    5117   \n",
       "                 5 to 9       160990         160996  160996  161000   95241   \n",
       "                 50 to 99      46104          46105   46103   46103   27275   \n",
       "                 500 to 999     4015           4015    4015    4015    2388   \n",
       "                 Over 1,000     4179           4180    4180    4179    2455   \n",
       "3-5 years        0                 1              1       1       1       1   \n",
       "                 1 to 4        13890          13890   13890   13890    8165   \n",
       "                 10 to 19       5761           5762    5761    5762    3406   \n",
       "                 100 to 249     1342           1342    1342    1342     758   \n",
       "                 20 to 49       4581           4581    4582    4581    2709   \n",
       "                 250 to 499      392            392     392     392     242   \n",
       "                 5 to 9         8180           8180    8179    8180    4840   \n",
       "                 50 to 99       2249           2249    2249    2249    1316   \n",
       "                 500 to 999      193            193     193     193     110   \n",
       "                 Over 1,000      223            223     223     223     131   \n",
       "6-10 years       0                 1              1       1       1       0   \n",
       "                 1 to 4        38254          38252   38252   38252   22548   \n",
       "                 10 to 19      15957          15958   15960   15959    9421   \n",
       "                 100 to 249     3892           3893    3893    3893    2294   \n",
       "                 20 to 49      12762          12762   12763   12765    7480   \n",
       "                 250 to 499     1154           1155    1155    1155     687   \n",
       "                 5 to 9        22580          22583   22583   22583   13323   \n",
       "                 50 to 99       6441           6441    6440    6440    3792   \n",
       "                 500 to 999      552            552     552     552     323   \n",
       "                 Over 1,000      618            618     618     618     349   \n",
       "\n",
       "                             revenue   state     zip  \n",
       "time_in_business headcount                            \n",
       "                 1 to 4            3       3       3  \n",
       "                 10 to 19          1       1       1  \n",
       "                 100 to 249        2       2       2  \n",
       "                 20 to 49          1       1       1  \n",
       "                 5 to 9            3       3       3  \n",
       "1-2 years        1 to 4         4254    4494    4494  \n",
       "                 10 to 19       1842    1946    1945  \n",
       "                 100 to 249      456     476     476  \n",
       "                 20 to 49       1490    1568    1568  \n",
       "                 250 to 499      135     146     146  \n",
       "                 5 to 9         2562    2729    2730  \n",
       "                 50 to 99        710     757     757  \n",
       "                 500 to 999       64      68      68  \n",
       "                 Over 1,000       79      84      84  \n",
       "10+ years        0                 6       6       6  \n",
       "                 1 to 4       256007  271640  271644  \n",
       "                 10 to 19     108402  114933  114934  \n",
       "                 100 to 249    26145   27716   27714  \n",
       "                 20 to 49      86811   92084   92086  \n",
       "                 250 to 499     8055    8555    8556  \n",
       "                 5 to 9       151924  160995  160999  \n",
       "                 50 to 99      43554   46103   46104  \n",
       "                 500 to 999     3775    4015    4015  \n",
       "                 Over 1,000     3960    4180    4180  \n",
       "3-5 years        0                 1       1       1  \n",
       "                 1 to 4        13070   13888   13888  \n",
       "                 10 to 19       5438    5762    5761  \n",
       "                 100 to 249     1269    1342    1342  \n",
       "                 20 to 49       4338    4582    4582  \n",
       "                 250 to 499      374     392     392  \n",
       "                 5 to 9         7663    8181    8181  \n",
       "                 50 to 99       2131    2247    2249  \n",
       "                 500 to 999      184     193     193  \n",
       "                 Over 1,000      209     223     223  \n",
       "6-10 years       0                 1       1       1  \n",
       "                 1 to 4        36131   38252   38253  \n",
       "                 10 to 19      15052   15958   15960  \n",
       "                 100 to 249     3652    3893    3893  \n",
       "                 20 to 49      12016   12763   12765  \n",
       "                 250 to 499     1096    1155    1155  \n",
       "                 5 to 9        21315   22582   22581  \n",
       "                 50 to 99       6073    6441    6441  \n",
       "                 500 to 999      526     551     552  \n",
       "                 Over 1,000      585     618     618  "
      ]
     },
     "execution_count": 53,
     "metadata": {},
     "output_type": "execute_result"
    }
   ],
   "source": [
    "#Narrowing down by 'Time in Business' and then by 'Headcount'\n",
    "df.groupby(['time_in_business','headcount']).count()"
   ]
  },
  {
   "cell_type": "code",
   "execution_count": 54,
   "metadata": {
    "ExecuteTime": {
     "end_time": "2017-06-06T17:08:13.402203",
     "start_time": "2017-06-06T17:08:03.407684"
    },
    "collapsed": false
   },
   "outputs": [
    {
     "data": {
      "text/html": [
       "<div>\n",
       "<table border=\"1\" class=\"dataframe\">\n",
       "  <thead>\n",
       "    <tr style=\"text-align: right;\">\n",
       "      <th></th>\n",
       "      <th>address</th>\n",
       "      <th>category_code</th>\n",
       "      <th>city</th>\n",
       "      <th>name</th>\n",
       "      <th>phone</th>\n",
       "      <th>revenue</th>\n",
       "      <th>state</th>\n",
       "      <th>time_in_business</th>\n",
       "      <th>zip</th>\n",
       "    </tr>\n",
       "    <tr>\n",
       "      <th>headcount</th>\n",
       "      <th></th>\n",
       "      <th></th>\n",
       "      <th></th>\n",
       "      <th></th>\n",
       "      <th></th>\n",
       "      <th></th>\n",
       "      <th></th>\n",
       "      <th></th>\n",
       "      <th></th>\n",
       "    </tr>\n",
       "  </thead>\n",
       "  <tbody>\n",
       "    <tr>\n",
       "      <th>0</th>\n",
       "      <td>1</td>\n",
       "      <td>1</td>\n",
       "      <td>1</td>\n",
       "      <td>1</td>\n",
       "      <td>1</td>\n",
       "      <td>1</td>\n",
       "      <td>1</td>\n",
       "      <td>1</td>\n",
       "      <td>1</td>\n",
       "    </tr>\n",
       "    <tr>\n",
       "      <th>1 to 4</th>\n",
       "      <td>18384</td>\n",
       "      <td>18384</td>\n",
       "      <td>18384</td>\n",
       "      <td>18384</td>\n",
       "      <td>10800</td>\n",
       "      <td>17324</td>\n",
       "      <td>18382</td>\n",
       "      <td>18384</td>\n",
       "      <td>18382</td>\n",
       "    </tr>\n",
       "    <tr>\n",
       "      <th>10 to 19</th>\n",
       "      <td>7707</td>\n",
       "      <td>7708</td>\n",
       "      <td>7706</td>\n",
       "      <td>7707</td>\n",
       "      <td>4536</td>\n",
       "      <td>7280</td>\n",
       "      <td>7708</td>\n",
       "      <td>7708</td>\n",
       "      <td>7706</td>\n",
       "    </tr>\n",
       "    <tr>\n",
       "      <th>100 to 249</th>\n",
       "      <td>1818</td>\n",
       "      <td>1818</td>\n",
       "      <td>1818</td>\n",
       "      <td>1818</td>\n",
       "      <td>1041</td>\n",
       "      <td>1725</td>\n",
       "      <td>1818</td>\n",
       "      <td>1818</td>\n",
       "      <td>1818</td>\n",
       "    </tr>\n",
       "    <tr>\n",
       "      <th>20 to 49</th>\n",
       "      <td>6148</td>\n",
       "      <td>6149</td>\n",
       "      <td>6150</td>\n",
       "      <td>6149</td>\n",
       "      <td>3639</td>\n",
       "      <td>5828</td>\n",
       "      <td>6150</td>\n",
       "      <td>6150</td>\n",
       "      <td>6150</td>\n",
       "    </tr>\n",
       "    <tr>\n",
       "      <th>250 to 499</th>\n",
       "      <td>538</td>\n",
       "      <td>538</td>\n",
       "      <td>538</td>\n",
       "      <td>538</td>\n",
       "      <td>337</td>\n",
       "      <td>509</td>\n",
       "      <td>538</td>\n",
       "      <td>538</td>\n",
       "      <td>538</td>\n",
       "    </tr>\n",
       "    <tr>\n",
       "      <th>5 to 9</th>\n",
       "      <td>10910</td>\n",
       "      <td>10910</td>\n",
       "      <td>10909</td>\n",
       "      <td>10910</td>\n",
       "      <td>6471</td>\n",
       "      <td>10225</td>\n",
       "      <td>10910</td>\n",
       "      <td>10911</td>\n",
       "      <td>10911</td>\n",
       "    </tr>\n",
       "    <tr>\n",
       "      <th>50 to 99</th>\n",
       "      <td>3006</td>\n",
       "      <td>3006</td>\n",
       "      <td>3006</td>\n",
       "      <td>3006</td>\n",
       "      <td>1763</td>\n",
       "      <td>2841</td>\n",
       "      <td>3004</td>\n",
       "      <td>3006</td>\n",
       "      <td>3006</td>\n",
       "    </tr>\n",
       "    <tr>\n",
       "      <th>500 to 999</th>\n",
       "      <td>261</td>\n",
       "      <td>261</td>\n",
       "      <td>261</td>\n",
       "      <td>261</td>\n",
       "      <td>153</td>\n",
       "      <td>248</td>\n",
       "      <td>261</td>\n",
       "      <td>261</td>\n",
       "      <td>261</td>\n",
       "    </tr>\n",
       "    <tr>\n",
       "      <th>Over 1,000</th>\n",
       "      <td>307</td>\n",
       "      <td>307</td>\n",
       "      <td>307</td>\n",
       "      <td>307</td>\n",
       "      <td>180</td>\n",
       "      <td>288</td>\n",
       "      <td>307</td>\n",
       "      <td>307</td>\n",
       "      <td>307</td>\n",
       "    </tr>\n",
       "  </tbody>\n",
       "</table>\n",
       "</div>"
      ],
      "text/plain": [
       "            address  category_code   city   name  phone  revenue  state  \\\n",
       "headcount                                                                 \n",
       "0                 1              1      1      1      1        1      1   \n",
       "1 to 4        18384          18384  18384  18384  10800    17324  18382   \n",
       "10 to 19       7707           7708   7706   7707   4536     7280   7708   \n",
       "100 to 249     1818           1818   1818   1818   1041     1725   1818   \n",
       "20 to 49       6148           6149   6150   6149   3639     5828   6150   \n",
       "250 to 499      538            538    538    538    337      509    538   \n",
       "5 to 9        10910          10910  10909  10910   6471    10225  10910   \n",
       "50 to 99       3006           3006   3006   3006   1763     2841   3004   \n",
       "500 to 999      261            261    261    261    153      248    261   \n",
       "Over 1,000      307            307    307    307    180      288    307   \n",
       "\n",
       "            time_in_business    zip  \n",
       "headcount                            \n",
       "0                          1      1  \n",
       "1 to 4                 18384  18382  \n",
       "10 to 19                7708   7706  \n",
       "100 to 249              1818   1818  \n",
       "20 to 49                6150   6150  \n",
       "250 to 499               538    538  \n",
       "5 to 9                 10911  10911  \n",
       "50 to 99                3006   3006  \n",
       "500 to 999               261    261  \n",
       "Over 1,000               307    307  "
      ]
     },
     "execution_count": 54,
     "metadata": {},
     "output_type": "execute_result"
    }
   ],
   "source": [
    "df[(df.time_in_business == '1-2 years') | (df.time_in_business == '3-5 years')].groupby(['headcount']).count()"
   ]
  },
  {
   "cell_type": "markdown",
   "metadata": {},
   "source": [
    "Let's clean it up to make a more visually pleasing final table"
   ]
  },
  {
   "cell_type": "code",
   "execution_count": 55,
   "metadata": {
    "ExecuteTime": {
     "end_time": "2017-06-06T17:08:27.159508",
     "start_time": "2017-06-06T17:08:19.421494"
    },
    "collapsed": true
   },
   "outputs": [],
   "source": [
    "hr_target = df[(df.time_in_business == '1-2 years') | (df.time_in_business == '3-5 years')].groupby(['headcount']).count().reset_index()"
   ]
  },
  {
   "cell_type": "code",
   "execution_count": 56,
   "metadata": {
    "ExecuteTime": {
     "end_time": "2017-06-06T17:08:33.767315",
     "start_time": "2017-06-06T17:08:33.743356"
    },
    "collapsed": false
   },
   "outputs": [],
   "source": [
    "#Only want to see one column with total counts. Making a new column and setting it equal to any of the others.\n",
    "hr_target['counts'] = hr_target['address']\n",
    "hr_target = hr_target[['headcount','counts']]"
   ]
  },
  {
   "cell_type": "code",
   "execution_count": 57,
   "metadata": {
    "ExecuteTime": {
     "end_time": "2017-06-06T17:08:35.164022",
     "start_time": "2017-06-06T17:08:35.061825"
    },
    "collapsed": false
   },
   "outputs": [
    {
     "data": {
      "text/html": [
       "<div>\n",
       "<table border=\"1\" class=\"dataframe\">\n",
       "  <thead>\n",
       "    <tr style=\"text-align: right;\">\n",
       "      <th></th>\n",
       "      <th>headcount</th>\n",
       "      <th>counts</th>\n",
       "    </tr>\n",
       "  </thead>\n",
       "  <tbody>\n",
       "    <tr>\n",
       "      <th>0</th>\n",
       "      <td>0</td>\n",
       "      <td>1</td>\n",
       "    </tr>\n",
       "    <tr>\n",
       "      <th>1</th>\n",
       "      <td>1 to 4</td>\n",
       "      <td>18384</td>\n",
       "    </tr>\n",
       "    <tr>\n",
       "      <th>2</th>\n",
       "      <td>10 to 19</td>\n",
       "      <td>7707</td>\n",
       "    </tr>\n",
       "    <tr>\n",
       "      <th>3</th>\n",
       "      <td>100 to 249</td>\n",
       "      <td>1818</td>\n",
       "    </tr>\n",
       "    <tr>\n",
       "      <th>4</th>\n",
       "      <td>20 to 49</td>\n",
       "      <td>6148</td>\n",
       "    </tr>\n",
       "    <tr>\n",
       "      <th>5</th>\n",
       "      <td>250 to 499</td>\n",
       "      <td>538</td>\n",
       "    </tr>\n",
       "    <tr>\n",
       "      <th>6</th>\n",
       "      <td>5 to 9</td>\n",
       "      <td>10910</td>\n",
       "    </tr>\n",
       "    <tr>\n",
       "      <th>7</th>\n",
       "      <td>50 to 99</td>\n",
       "      <td>3006</td>\n",
       "    </tr>\n",
       "    <tr>\n",
       "      <th>8</th>\n",
       "      <td>500 to 999</td>\n",
       "      <td>261</td>\n",
       "    </tr>\n",
       "    <tr>\n",
       "      <th>9</th>\n",
       "      <td>Over 1,000</td>\n",
       "      <td>307</td>\n",
       "    </tr>\n",
       "  </tbody>\n",
       "</table>\n",
       "</div>"
      ],
      "text/plain": [
       "    headcount  counts\n",
       "0           0       1\n",
       "1      1 to 4   18384\n",
       "2    10 to 19    7707\n",
       "3  100 to 249    1818\n",
       "4    20 to 49    6148\n",
       "5  250 to 499     538\n",
       "6      5 to 9   10910\n",
       "7    50 to 99    3006\n",
       "8  500 to 999     261\n",
       "9  Over 1,000     307"
      ]
     },
     "execution_count": 57,
     "metadata": {},
     "output_type": "execute_result"
    }
   ],
   "source": [
    "hr_target"
   ]
  },
  {
   "cell_type": "markdown",
   "metadata": {},
   "source": [
    "Finally, let's just take the first few groups of headcount to narrow down our companies."
   ]
  },
  {
   "cell_type": "code",
   "execution_count": 58,
   "metadata": {
    "ExecuteTime": {
     "end_time": "2017-06-06T17:08:44.323213",
     "start_time": "2017-06-06T17:08:44.300287"
    },
    "collapsed": true
   },
   "outputs": [],
   "source": [
    "hr_target = hr_target[hr_target.headcount.isin(['1 to 4','5 to 9','10 to 19','20 to 49'])]"
   ]
  },
  {
   "cell_type": "code",
   "execution_count": 59,
   "metadata": {
    "ExecuteTime": {
     "end_time": "2017-06-06T17:08:46.194130",
     "start_time": "2017-06-06T17:08:46.175970"
    },
    "collapsed": false
   },
   "outputs": [
    {
     "name": "stdout",
     "output_type": "stream",
     "text": [
      "Target segment for HR services company has 43149 companies\n"
     ]
    }
   ],
   "source": [
    "print 'Target segment for HR services company has',hr_target.counts.sum(), 'companies'"
   ]
  },
  {
   "cell_type": "markdown",
   "metadata": {},
   "source": [
    "Now let's look at the top categories for this segment"
   ]
  },
  {
   "cell_type": "code",
   "execution_count": 60,
   "metadata": {
    "ExecuteTime": {
     "end_time": "2017-06-06T17:08:59.885490",
     "start_time": "2017-06-06T17:08:50.126743"
    },
    "collapsed": false
   },
   "outputs": [
    {
     "name": "stderr",
     "output_type": "stream",
     "text": [
      "/Users/veenakumar/anaconda2/lib/python2.7/site-packages/ipykernel/__main__.py:1: FutureWarning: sort(columns=....) is deprecated, use sort_values(by=.....)\n",
      "  if __name__ == '__main__':\n"
     ]
    }
   ],
   "source": [
    "hr_top_codes = df[(df.time_in_business == '1-2 years') | (df.time_in_business == '3-5 years') & (df.headcount.isin(['1 to 4','5 to 9','10 to 19','20 to 49']))].groupby(['category_code']).count().sort(columns='address',ascending=False).reset_index().iloc[:10]"
   ]
  },
  {
   "cell_type": "code",
   "execution_count": 61,
   "metadata": {
    "ExecuteTime": {
     "end_time": "2017-06-06T17:09:02.261940",
     "start_time": "2017-06-06T17:09:02.207370"
    },
    "collapsed": false
   },
   "outputs": [
    {
     "data": {
      "text/html": [
       "<div>\n",
       "<table border=\"1\" class=\"dataframe\">\n",
       "  <thead>\n",
       "    <tr style=\"text-align: right;\">\n",
       "      <th></th>\n",
       "      <th>category_code</th>\n",
       "      <th>address</th>\n",
       "      <th>city</th>\n",
       "      <th>headcount</th>\n",
       "      <th>name</th>\n",
       "      <th>phone</th>\n",
       "      <th>revenue</th>\n",
       "      <th>state</th>\n",
       "      <th>time_in_business</th>\n",
       "      <th>zip</th>\n",
       "    </tr>\n",
       "  </thead>\n",
       "  <tbody>\n",
       "    <tr>\n",
       "      <th>0</th>\n",
       "      <td>61111000</td>\n",
       "      <td>1765</td>\n",
       "      <td>1765</td>\n",
       "      <td>1747</td>\n",
       "      <td>1765</td>\n",
       "      <td>1038</td>\n",
       "      <td>1667</td>\n",
       "      <td>1764</td>\n",
       "      <td>1765</td>\n",
       "      <td>1765</td>\n",
       "    </tr>\n",
       "    <tr>\n",
       "      <th>1</th>\n",
       "      <td>54111000</td>\n",
       "      <td>1673</td>\n",
       "      <td>1673</td>\n",
       "      <td>1656</td>\n",
       "      <td>1672</td>\n",
       "      <td>939</td>\n",
       "      <td>1577</td>\n",
       "      <td>1673</td>\n",
       "      <td>1673</td>\n",
       "      <td>1673</td>\n",
       "    </tr>\n",
       "    <tr>\n",
       "      <th>2</th>\n",
       "      <td>53120000</td>\n",
       "      <td>1491</td>\n",
       "      <td>1491</td>\n",
       "      <td>1471</td>\n",
       "      <td>1491</td>\n",
       "      <td>891</td>\n",
       "      <td>1400</td>\n",
       "      <td>1491</td>\n",
       "      <td>1491</td>\n",
       "      <td>1491</td>\n",
       "    </tr>\n",
       "    <tr>\n",
       "      <th>3</th>\n",
       "      <td>54000000</td>\n",
       "      <td>1404</td>\n",
       "      <td>1404</td>\n",
       "      <td>1391</td>\n",
       "      <td>1404</td>\n",
       "      <td>847</td>\n",
       "      <td>1335</td>\n",
       "      <td>1405</td>\n",
       "      <td>1405</td>\n",
       "      <td>1405</td>\n",
       "    </tr>\n",
       "    <tr>\n",
       "      <th>4</th>\n",
       "      <td>42000000</td>\n",
       "      <td>1390</td>\n",
       "      <td>1390</td>\n",
       "      <td>1380</td>\n",
       "      <td>1391</td>\n",
       "      <td>803</td>\n",
       "      <td>1317</td>\n",
       "      <td>1391</td>\n",
       "      <td>1391</td>\n",
       "      <td>1391</td>\n",
       "    </tr>\n",
       "    <tr>\n",
       "      <th>5</th>\n",
       "      <td>62110000</td>\n",
       "      <td>1376</td>\n",
       "      <td>1376</td>\n",
       "      <td>1360</td>\n",
       "      <td>1376</td>\n",
       "      <td>821</td>\n",
       "      <td>1285</td>\n",
       "      <td>1376</td>\n",
       "      <td>1376</td>\n",
       "      <td>1376</td>\n",
       "    </tr>\n",
       "    <tr>\n",
       "      <th>6</th>\n",
       "      <td>54100000</td>\n",
       "      <td>1299</td>\n",
       "      <td>1299</td>\n",
       "      <td>1289</td>\n",
       "      <td>1299</td>\n",
       "      <td>748</td>\n",
       "      <td>1224</td>\n",
       "      <td>1299</td>\n",
       "      <td>1299</td>\n",
       "      <td>1299</td>\n",
       "    </tr>\n",
       "    <tr>\n",
       "      <th>7</th>\n",
       "      <td>23000000</td>\n",
       "      <td>1289</td>\n",
       "      <td>1289</td>\n",
       "      <td>1279</td>\n",
       "      <td>1289</td>\n",
       "      <td>768</td>\n",
       "      <td>1218</td>\n",
       "      <td>1289</td>\n",
       "      <td>1289</td>\n",
       "      <td>1289</td>\n",
       "    </tr>\n",
       "    <tr>\n",
       "      <th>8</th>\n",
       "      <td>52420000</td>\n",
       "      <td>1175</td>\n",
       "      <td>1175</td>\n",
       "      <td>1170</td>\n",
       "      <td>1175</td>\n",
       "      <td>694</td>\n",
       "      <td>1116</td>\n",
       "      <td>1175</td>\n",
       "      <td>1175</td>\n",
       "      <td>1175</td>\n",
       "    </tr>\n",
       "    <tr>\n",
       "      <th>9</th>\n",
       "      <td>62400000</td>\n",
       "      <td>965</td>\n",
       "      <td>965</td>\n",
       "      <td>957</td>\n",
       "      <td>965</td>\n",
       "      <td>564</td>\n",
       "      <td>913</td>\n",
       "      <td>965</td>\n",
       "      <td>965</td>\n",
       "      <td>965</td>\n",
       "    </tr>\n",
       "  </tbody>\n",
       "</table>\n",
       "</div>"
      ],
      "text/plain": [
       "  category_code  address  city  headcount  name  phone  revenue  state  \\\n",
       "0      61111000     1765  1765       1747  1765   1038     1667   1764   \n",
       "1      54111000     1673  1673       1656  1672    939     1577   1673   \n",
       "2      53120000     1491  1491       1471  1491    891     1400   1491   \n",
       "3      54000000     1404  1404       1391  1404    847     1335   1405   \n",
       "4      42000000     1390  1390       1380  1391    803     1317   1391   \n",
       "5      62110000     1376  1376       1360  1376    821     1285   1376   \n",
       "6      54100000     1299  1299       1289  1299    748     1224   1299   \n",
       "7      23000000     1289  1289       1279  1289    768     1218   1289   \n",
       "8      52420000     1175  1175       1170  1175    694     1116   1175   \n",
       "9      62400000      965   965        957   965    564      913    965   \n",
       "\n",
       "   time_in_business   zip  \n",
       "0              1765  1765  \n",
       "1              1673  1673  \n",
       "2              1491  1491  \n",
       "3              1405  1405  \n",
       "4              1391  1391  \n",
       "5              1376  1376  \n",
       "6              1299  1299  \n",
       "7              1289  1289  \n",
       "8              1175  1175  \n",
       "9               965   965  "
      ]
     },
     "execution_count": 61,
     "metadata": {},
     "output_type": "execute_result"
    }
   ],
   "source": [
    "hr_top_codes"
   ]
  },
  {
   "cell_type": "code",
   "execution_count": 62,
   "metadata": {
    "ExecuteTime": {
     "end_time": "2017-06-06T17:09:15.521438",
     "start_time": "2017-06-06T17:09:06.112020"
    },
    "collapsed": false
   },
   "outputs": [
    {
     "name": "stdout",
     "output_type": "stream",
     "text": [
      "<class 'pandas.core.frame.DataFrame'>\n",
      "Int64Index: 45171 entries, 13 to 999989\n",
      "Data columns (total 10 columns):\n",
      "address             45167 non-null object\n",
      "category_code       45169 non-null object\n",
      "city                45166 non-null object\n",
      "headcount           44684 non-null object\n",
      "name                45168 non-null object\n",
      "phone               26683 non-null object\n",
      "revenue             42564 non-null object\n",
      "state               45168 non-null object\n",
      "time_in_business    45171 non-null object\n",
      "zip                 45167 non-null object\n",
      "dtypes: object(10)\n",
      "memory usage: 3.8+ MB\n"
     ]
    }
   ],
   "source": [
    "df[(df.time_in_business == '1-2 years') | (df.time_in_business == '3-5 years') & (df.headcount.isin(['1 to 4','5 to 9','10 to 19','20 to 49']))].info()"
   ]
  },
  {
   "cell_type": "code",
   "execution_count": 63,
   "metadata": {
    "ExecuteTime": {
     "end_time": "2017-06-06T17:09:23.298328",
     "start_time": "2017-06-06T17:09:17.402203"
    },
    "collapsed": false
   },
   "outputs": [
    {
     "name": "stdout",
     "output_type": "stream",
     "text": [
      "<class 'pandas.core.frame.DataFrame'>\n",
      "Int64Index: 51036 entries, 13 to 999989\n",
      "Data columns (total 10 columns):\n",
      "address             51032 non-null object\n",
      "category_code       51034 non-null object\n",
      "city                51031 non-null object\n",
      "headcount           49084 non-null object\n",
      "name                51033 non-null object\n",
      "phone               30086 non-null object\n",
      "revenue             48100 non-null object\n",
      "state               51031 non-null object\n",
      "time_in_business    51036 non-null object\n",
      "zip                 51032 non-null object\n",
      "dtypes: object(10)\n",
      "memory usage: 4.3+ MB\n"
     ]
    }
   ],
   "source": [
    "df[(df.time_in_business == '1-2 years') | (df.time_in_business == '3-5 years')].info()"
   ]
  },
  {
   "cell_type": "markdown",
   "metadata": {},
   "source": [
    "# Plots"
   ]
  },
  {
   "cell_type": "code",
   "execution_count": 64,
   "metadata": {
    "ExecuteTime": {
     "end_time": "2017-06-06T17:09:51.085194",
     "start_time": "2017-06-06T17:09:47.273589"
    },
    "collapsed": false
   },
   "outputs": [
    {
     "data": {
      "text/plain": [
       "'1.12.9'"
      ]
     },
     "execution_count": 64,
     "metadata": {},
     "output_type": "execute_result"
    }
   ],
   "source": [
    "import plotly\n",
    "plotly.__version__"
   ]
  },
  {
   "cell_type": "code",
   "execution_count": 66,
   "metadata": {
    "ExecuteTime": {
     "end_time": "2017-06-06T17:09:59.998681",
     "start_time": "2017-06-06T17:09:59.757067"
    },
    "collapsed": true
   },
   "outputs": [],
   "source": [
    "import matplotlib.pyplot as plt"
   ]
  },
  {
   "cell_type": "markdown",
   "metadata": {},
   "source": [
    "### Distribution of Records by State"
   ]
  },
  {
   "cell_type": "code",
   "execution_count": 67,
   "metadata": {
    "ExecuteTime": {
     "end_time": "2017-06-06T17:10:34.227133",
     "start_time": "2017-06-06T17:10:25.396721"
    },
    "collapsed": false
   },
   "outputs": [],
   "source": [
    "states = df.state.value_counts().to_dict()"
   ]
  },
  {
   "cell_type": "code",
   "execution_count": 70,
   "metadata": {
    "ExecuteTime": {
     "end_time": "2017-06-06T17:10:45.352762",
     "start_time": "2017-06-06T17:10:45.340351"
    },
    "collapsed": true
   },
   "outputs": [],
   "source": [
    "xs = [states.keys()[states.values().index(d)] for d in D]"
   ]
  },
  {
   "cell_type": "code",
   "execution_count": 69,
   "metadata": {
    "ExecuteTime": {
     "end_time": "2017-06-06T17:10:34.347151",
     "start_time": "2017-06-06T17:10:34.329969"
    },
    "collapsed": false
   },
   "outputs": [],
   "source": [
    "D = sorted(states.values())"
   ]
  },
  {
   "cell_type": "code",
   "execution_count": 71,
   "metadata": {
    "ExecuteTime": {
     "end_time": "2017-06-06T17:11:03.178979",
     "start_time": "2017-06-06T17:11:03.175421"
    },
    "collapsed": true
   },
   "outputs": [],
   "source": [
    "D = D[4:]"
   ]
  },
  {
   "cell_type": "code",
   "execution_count": 72,
   "metadata": {
    "ExecuteTime": {
     "end_time": "2017-06-06T17:11:09.535186",
     "start_time": "2017-06-06T17:11:09.522320"
    },
    "collapsed": false
   },
   "outputs": [],
   "source": [
    "xs = xs[4:]"
   ]
  },
  {
   "cell_type": "code",
   "execution_count": 68,
   "metadata": {
    "ExecuteTime": {
     "end_time": "2017-06-06T17:10:34.320626",
     "start_time": "2017-06-06T17:10:34.235663"
    },
    "collapsed": false,
    "scrolled": true
   },
   "outputs": [
    {
     "data": {
      "text/plain": [
       "{u'': 14,\n",
       " u'AK': 2515,\n",
       " u'AL': 12172,\n",
       " u'AR': 7377,\n",
       " u'AZ': 18152,\n",
       " u'CA': 122812,\n",
       " u'CO': 21781,\n",
       " u'CT': 15107,\n",
       " u'DC': 4499,\n",
       " u'DE': 2849,\n",
       " u'FL': 63245,\n",
       " u'GA': 29797,\n",
       " u'HI': 3754,\n",
       " u'IA': 10880,\n",
       " u'ID': 5135,\n",
       " u'IL': 44126,\n",
       " u'IN': 19861,\n",
       " u'KS': 10523,\n",
       " u'KY': 11393,\n",
       " u'LA': 12229,\n",
       " u'MA': 30014,\n",
       " u'MD': 19973,\n",
       " u'ME': 5793,\n",
       " u'MI': 31237,\n",
       " u'MN': 22243,\n",
       " u'MO': 19558,\n",
       " u'MS': 5864,\n",
       " u'MT': 3817,\n",
       " u'NC': 30389,\n",
       " u'ND': 2315,\n",
       " u'NE': 7080,\n",
       " u'NH': 6139,\n",
       " u'NJ': 28837,\n",
       " u'NM': 5076,\n",
       " u'NV': 6700,\n",
       " u'NY': 57411,\n",
       " u'OH': 36524,\n",
       " u'OK': 10456,\n",
       " u'OR': 15690,\n",
       " u'PA': 40609,\n",
       " u'PR': 2,\n",
       " u'RI': 3880,\n",
       " u'SC': 12842,\n",
       " u'SD': 3306,\n",
       " u'TN': 18445,\n",
       " u'TX': 70301,\n",
       " u'UT': 8873,\n",
       " u'VA': 27161,\n",
       " u'VI': 1,\n",
       " u'VT': 3029,\n",
       " u'WA': 24295,\n",
       " u'WI': 18754,\n",
       " u'WV': 3217,\n",
       " u'WY': 1858,\n",
       " u'null': 20}"
      ]
     },
     "execution_count": 68,
     "metadata": {},
     "output_type": "execute_result"
    }
   ],
   "source": [
    "states"
   ]
  },
  {
   "cell_type": "code",
   "execution_count": 74,
   "metadata": {
    "ExecuteTime": {
     "end_time": "2017-06-06T17:11:28.770673",
     "start_time": "2017-06-06T17:11:27.467070"
    },
    "collapsed": false
   },
   "outputs": [
    {
     "data": {
      "image/png": "[encoded data removed]",
      "text/plain": [
       "<matplotlib.figure.Figure at 0x1d3a380d0>"
      ]
     },
     "metadata": {},
     "output_type": "display_data"
    }
   ],
   "source": [
    "plt.figure(figsize=(12,7)).suptitle('Count of Records by State',fontsize=25)\n",
    "plt.bar(range(len(D)),D,width = 0.6,linewidth=.5)\n",
    "plt.xticks(range(0,len(D)+1),xs,rotation=70)\n",
    "plt.xlim(xmax=len(D)+0.5)\n",
    "plt.xlabel('State',fontsize=15)\n",
    "plt.ylabel('Count',fontsize=15)\n",
    "plt.show();"
   ]
  },
  {
   "cell_type": "code",
   "execution_count": 75,
   "metadata": {
    "ExecuteTime": {
     "end_time": "2017-06-06T17:11:35.407725",
     "start_time": "2017-06-06T17:11:32.957777"
    },
    "collapsed": false
   },
   "outputs": [
    {
     "data": {
      "text/html": [
       "<iframe id=\"igraph\" scrolling=\"no\" style=\"border:none;\" seamless=\"seamless\" src=\"https://plot.ly/~january27/100.embed\" height=\"525px\" width=\"100%\"></iframe>"
      ],
      "text/plain": [
       "<plotly.tools.PlotlyDisplay object>"
      ]
     },
     "execution_count": 75,
     "metadata": {},
     "output_type": "execute_result"
    }
   ],
   "source": [
    "import plotly.plotly as py\n",
    "import plotly.graph_objs as go\n",
    "\n",
    "x=xs\n",
    "y=D\n",
    "\n",
    "data = [go.Bar(\n",
    "            x=x,y=y,\n",
    "            marker=dict(\n",
    "                color='rgb(237, 161, 61)',\n",
    "                line=dict(\n",
    "                    color='rgb(206, 123, 14)',\n",
    "                    width=1.5),\n",
    "            ),\n",
    "            opacity=0.8\n",
    "        )]\n",
    "\n",
    "layout = go.Layout(title='Count of Records by State',\n",
    "        xaxis=dict(\n",
    "        title='State',\n",
    "        titlefont=dict(size=18,color='rgb(107,107,107)'),\n",
    "        tickfont=dict(\n",
    "            size=12,\n",
    "            color='rgb(107, 107, 107)')\n",
    "    ),\n",
    "    yaxis=dict(\n",
    "        title='Count',\n",
    "        titlefont=dict(\n",
    "            size=18,\n",
    "            color='rgb(107, 107, 107)'\n",
    "        ),\n",
    "        tickfont=dict(\n",
    "            size=12,\n",
    "            color='rgb(107, 107, 107)'\n",
    "        )\n",
    "    )\n",
    ")\n",
    "\n",
    "fig = go.Figure(data=data, layout=layout)\n",
    "py.iplot(fig)"
   ]
  },
  {
   "cell_type": "code",
   "execution_count": null,
   "metadata": {
    "collapsed": true
   },
   "outputs": [],
   "source": []
  },
  {
   "cell_type": "code",
   "execution_count": null,
   "metadata": {
    "collapsed": true
   },
   "outputs": [],
   "source": []
  },
  {
   "cell_type": "markdown",
   "metadata": {},
   "source": [
    "### Distribution of Records by Headcount"
   ]
  },
  {
   "cell_type": "code",
   "execution_count": 76,
   "metadata": {
    "ExecuteTime": {
     "end_time": "2017-06-06T17:11:59.874224",
     "start_time": "2017-06-06T17:11:53.195914"
    },
    "collapsed": true
   },
   "outputs": [],
   "source": [
    "H = df.headcount.value_counts().to_dict()"
   ]
  },
  {
   "cell_type": "code",
   "execution_count": 77,
   "metadata": {
    "ExecuteTime": {
     "end_time": "2017-06-06T17:12:00.549181",
     "start_time": "2017-06-06T17:11:59.879013"
    },
    "collapsed": false,
    "scrolled": false
   },
   "outputs": [
    {
     "data": {
      "image/png": "[encoded data removed]",
      "text/plain": [
       "<matplotlib.figure.Figure at 0x1ba1fb050>"
      ]
     },
     "metadata": {},
     "output_type": "display_data"
    }
   ],
   "source": [
    "headcount = ['1 to 4','5 to 9','10 to 19','20 to 49','50 to 99','100 to 249','250 to 499',\n",
    "            '500 to 999','Over 1,000']\n",
    "y = [H[h] for h in headcount]\n",
    "\n",
    "plt.figure(figsize=(12,7)).suptitle('Count of Records by Headcount',fontsize=25)\n",
    "plt.bar(range(len(H)-1), y ,width = 0.6,linewidth=.5,align='center')\n",
    "plt.xticks(range(len(H)-1),headcount,rotation=70)\n",
    "\n",
    "plt.xlabel('Headcount',fontsize=15)\n",
    "plt.ylabel('Count',fontsize=15)\n",
    "plt.show();"
   ]
  },
  {
   "cell_type": "code",
   "execution_count": 78,
   "metadata": {
    "ExecuteTime": {
     "end_time": "2017-06-06T17:12:03.532301",
     "start_time": "2017-06-06T17:12:00.552484"
    },
    "collapsed": false
   },
   "outputs": [
    {
     "data": {
      "text/html": [
       "<iframe id=\"igraph\" scrolling=\"no\" style=\"border:none;\" seamless=\"seamless\" src=\"https://plot.ly/~january27/102.embed\" height=\"525px\" width=\"100%\"></iframe>"
      ],
      "text/plain": [
       "<plotly.tools.PlotlyDisplay object>"
      ]
     },
     "execution_count": 78,
     "metadata": {},
     "output_type": "execute_result"
    }
   ],
   "source": [
    "import plotly.plotly as py\n",
    "import plotly.graph_objs as go\n",
    "\n",
    "x=headcount\n",
    "y=y\n",
    "\n",
    "data = [go.Bar(\n",
    "            x=x,y=y,\n",
    "            marker=dict(\n",
    "                color='rgb(85, 67, 140)',\n",
    "                line=dict(\n",
    "                    color='rgb(31, 24, 53)',\n",
    "                    width=1.5),\n",
    "            ),\n",
    "            opacity=0.8\n",
    "        )]\n",
    "\n",
    "layout = go.Layout(title='Count of Records by Headcount',\n",
    "        xaxis=dict(\n",
    "        title='Headcount',\n",
    "        titlefont=dict(size=18,color='rgb(107,107,107)'),\n",
    "        tickfont=dict(\n",
    "            size=12,\n",
    "            color='rgb(107, 107, 107)')\n",
    "    ),\n",
    "    yaxis=dict(\n",
    "        title='Count',\n",
    "        titlefont=dict(\n",
    "            size=18,\n",
    "            color='rgb(107, 107, 107)'\n",
    "        ),\n",
    "        tickfont=dict(\n",
    "            size=12,\n",
    "            color='rgb(107, 107, 107)'\n",
    "        )\n",
    "    ),\n",
    "    annotations=[\n",
    "        dict(x=xi,y=yi,\n",
    "             text=str(yi),\n",
    "             xanchor='center',\n",
    "             yanchor='bottom',\n",
    "             showarrow=False,\n",
    "             font=dict(family='Arial',size=10)\n",
    "        ) for xi, yi in zip(x, y)]\n",
    ")\n",
    "\n",
    "fig = go.Figure(data=data, layout=layout)\n",
    "py.iplot(fig)"
   ]
  },
  {
   "cell_type": "markdown",
   "metadata": {},
   "source": [
    "### Distribution by Revenue"
   ]
  },
  {
   "cell_type": "code",
   "execution_count": 79,
   "metadata": {
    "ExecuteTime": {
     "end_time": "2017-06-06T17:12:22.967900",
     "start_time": "2017-06-06T17:12:17.179600"
    },
    "collapsed": true
   },
   "outputs": [],
   "source": [
    "R = df.revenue.value_counts().to_dict()"
   ]
  },
  {
   "cell_type": "code",
   "execution_count": 80,
   "metadata": {
    "ExecuteTime": {
     "end_time": "2017-06-06T17:12:22.987707",
     "start_time": "2017-06-06T17:12:22.980072"
    },
    "collapsed": true
   },
   "outputs": [],
   "source": [
    "x_labels = ['< $500,000', '$500,000 to $1M','$1M to $2.5M',\n",
    "            '$2.5M to $5M','$5M to $10M','$10M to $20M','$20M to $50M',\n",
    "            '$50M to $100M','$100M to $500M','> $500M','> $1B']"
   ]
  },
  {
   "cell_type": "code",
   "execution_count": 81,
   "metadata": {
    "ExecuteTime": {
     "end_time": "2017-06-06T17:12:23.246958",
     "start_time": "2017-06-06T17:12:22.990014"
    },
    "collapsed": true
   },
   "outputs": [
    {
     "ename": "KeyError",
     "evalue": "'< $500,000'",
     "output_type": "error",
     "traceback": [
      "\u001b[0;31m---------------------------------------------------------------------------\u001b[0m",
      "\u001b[0;31mKeyError\u001b[0m                                  Traceback (most recent call last)",
      "\u001b[0;32m<ipython-input-81-78c4f79e588b>\u001b[0m in \u001b[0;36m<module>\u001b[0;34m()\u001b[0m\n\u001b[0;32m----> 1\u001b[0;31m \u001b[0my\u001b[0m \u001b[0;34m=\u001b[0m \u001b[0;34m[\u001b[0m\u001b[0mR\u001b[0m\u001b[0;34m[\u001b[0m\u001b[0mx\u001b[0m\u001b[0;34m]\u001b[0m \u001b[0;32mfor\u001b[0m \u001b[0mx\u001b[0m \u001b[0;32min\u001b[0m \u001b[0mx_labels\u001b[0m\u001b[0;34m]\u001b[0m\u001b[0;34m\u001b[0m\u001b[0m\n\u001b[0m",
      "\u001b[0;31mKeyError\u001b[0m: '< $500,000'"
     ]
    }
   ],
   "source": [
    "y = [R[x] for x in x_labels]"
   ]
  },
  {
   "cell_type": "code",
   "execution_count": 83,
   "metadata": {
    "ExecuteTime": {
     "end_time": "2017-06-06T17:12:38.937802",
     "start_time": "2017-06-06T17:12:35.687556"
    },
    "collapsed": false
   },
   "outputs": [
    {
     "data": {
      "text/html": [
       "<iframe id=\"igraph\" scrolling=\"no\" style=\"border:none;\" seamless=\"seamless\" src=\"https://plot.ly/~january27/104.embed\" height=\"525px\" width=\"100%\"></iframe>"
      ],
      "text/plain": [
       "<plotly.tools.PlotlyDisplay object>"
      ]
     },
     "execution_count": 83,
     "metadata": {},
     "output_type": "execute_result"
    }
   ],
   "source": [
    "import plotly.plotly as py\n",
    "import plotly.graph_objs as go\n",
    "\n",
    "x = x_labels\n",
    "y=y\n",
    "\n",
    "data = [go.Bar(\n",
    "            x=x,y=y,\n",
    "            marker=dict(\n",
    "                color='rgb(1, 142, 20)',\n",
    "                line=dict(\n",
    "                    color='rgb(1, 114, 16)',\n",
    "                    width=1.5),\n",
    "            ),\n",
    "            opacity=0.8\n",
    "        )]\n",
    "\n",
    "layout = go.Layout(title='Count of Records by Revenue',\n",
    "     margin=go.Margin(\n",
    "        l=50,\n",
    "        r=50,\n",
    "        t=50,\n",
    "        b=100,\n",
    "    pad=4),\n",
    "    xaxis=dict(\n",
    "        title='Revenue',\n",
    "        titlefont=dict(size=18,color='rgb(107,107,107)'),\n",
    "        tickfont=dict(\n",
    "            size=10,\n",
    "            color='rgb(107, 107, 107)'),\n",
    "        tickangle=45,\n",
    "        showticklabels=True),\n",
    "    yaxis=dict(\n",
    "        title='Count',\n",
    "        titlefont=dict(\n",
    "            size=18,\n",
    "            color='rgb(107, 107, 107)'),\n",
    "        tickfont=dict(\n",
    "            size=10,\n",
    "            color='rgb(107, 107, 107)'))\n",
    ")\n",
    "\n",
    "fig = go.Figure(data=data, layout=layout)\n",
    "py.iplot(fig)"
   ]
  },
  {
   "cell_type": "code",
   "execution_count": 82,
   "metadata": {
    "ExecuteTime": {
     "end_time": "2017-06-06T17:12:25.675206",
     "start_time": "2017-06-06T17:12:23.607730"
    },
    "collapsed": false
   },
   "outputs": [
    {
     "data": {
      "image/png": "[encoded data removed]",
      "text/plain": [
       "<matplotlib.figure.Figure at 0x1d3a0a850>"
      ]
     },
     "metadata": {},
     "output_type": "display_data"
    }
   ],
   "source": [
    "revenue = ['Less Than $500,000', '$500,000 to $1 Million','$1 to 2.5 Million',\n",
    "            '$2.5 to 5 Million','$5 to 10 Million','$10 to 20 Million','$20 to 50 Million',\n",
    "            '$50 to 100 Million','$100 to 500 Million','Over $500 Million','Over $1 Billion']\n",
    "\n",
    "y = [R[r] for r in revenue]\n",
    "x_labels = ['< $500,000', '$500,000 to $1M','$1M to $2.5M',\n",
    "            '$2.5M to $5M','$5M to $10M','$10M to $20M','$20M to $50M',\n",
    "            '$50M to $100M','$100M to $500M','> $500M','> $1B']\n",
    "\n",
    "\n",
    "plt.figure(figsize=(12,7)).suptitle('Count of Records by Revenue',fontsize=22)\n",
    "plt.bar(range(len(R)-1), y ,width = 0.6,linewidth=.5,align='center',color='m')\n",
    "plt.xticks(range(len(R)),x_labels,rotation=50,fontsize=11)\n",
    "plt.xlim(xmin=-0.5,xmax=len(R)-1.5)\n",
    "\n",
    "plt.xlabel('Revenue',fontsize=15)\n",
    "plt.ylabel('Count',fontsize=15)\n",
    "plt.show();"
   ]
  },
  {
   "cell_type": "code",
   "execution_count": null,
   "metadata": {
    "collapsed": true
   },
   "outputs": [],
   "source": []
  },
  {
   "cell_type": "code",
   "execution_count": null,
   "metadata": {
    "collapsed": true
   },
   "outputs": [],
   "source": []
  },
  {
   "cell_type": "code",
   "execution_count": null,
   "metadata": {
    "collapsed": true
   },
   "outputs": [],
   "source": []
  },
  {
   "cell_type": "code",
   "execution_count": null,
   "metadata": {
    "collapsed": true
   },
   "outputs": [],
   "source": []
  },
  {
   "cell_type": "code",
   "execution_count": null,
   "metadata": {
    "collapsed": true
   },
   "outputs": [],
   "source": []
  }
 ],
 "metadata": {
  "anaconda-cloud": {},
  "kernelspec": {
   "display_name": "Python [conda root]",
   "language": "python",
   "name": "conda-root-py"
  },
  "language_info": {
   "codemirror_mode": {
    "name": "ipython",
    "version": 2
   },
   "file_extension": ".py",
   "mimetype": "text/x-python",
   "name": "python",
   "nbconvert_exporter": "python",
   "pygments_lexer": "ipython2",
   "version": "2.7.12"
  },
  "latex_envs": {
   "bibliofile": "biblio.bib",
   "cite_by": "apalike",
   "current_citInitial": 1,
   "eqLabelWithNumbers": true,
   "eqNumInitial": 0
  }
 },
 "nbformat": 4,
 "nbformat_minor": 1
}
